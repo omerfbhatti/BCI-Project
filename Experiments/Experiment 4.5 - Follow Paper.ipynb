{
  "nbformat": 4,
  "nbformat_minor": 0,
  "metadata": {
    "colab": {
      "name": "CPDSAI_project_ex2.ipynb",
      "provenance": [],
      "collapsed_sections": []
    },
    "kernelspec": {
      "name": "python3",
      "display_name": "Python 3"
    },
    "language_info": {
      "name": "python"
    },
    "accelerator": "GPU"
  },
  "cells": [
    {
      "cell_type": "markdown",
      "metadata": {
        "id": "BQulPy5Jk5dl"
      },
      "source": [
        "# EEG Signal Processing using Pytorch Project on CP DSAI Course\n",
        "\n",
        "The project is to do classification on EEG signal using BCI Motor Imagery Dataset. "
      ]
    },
    {
      "cell_type": "code",
      "metadata": {
        "colab": {
          "base_uri": "https://localhost:8080/"
        },
        "id": "tEoTae8fnQqi",
        "outputId": "76624e2d-a18f-4197-dd81-9bf26351f429"
      },
      "source": [
        "!pip install mne"
      ],
      "execution_count": 1,
      "outputs": [
        {
          "output_type": "stream",
          "name": "stdout",
          "text": [
            "Collecting mne\n",
            "  Downloading mne-0.24.0-py3-none-any.whl (7.4 MB)\n",
            "\u001b[K     |████████████████████████████████| 7.4 MB 10.2 MB/s \n",
            "\u001b[?25hRequirement already satisfied: scipy>=1.1.0 in /usr/local/lib/python3.7/dist-packages (from mne) (1.4.1)\n",
            "Requirement already satisfied: numpy>=1.15.4 in /usr/local/lib/python3.7/dist-packages (from mne) (1.19.5)\n",
            "Installing collected packages: mne\n",
            "Successfully installed mne-0.24.0\n"
          ]
        }
      ]
    },
    {
      "cell_type": "code",
      "metadata": {
        "id": "OBAFhtVRmx-V"
      },
      "source": [
        "# General packages\n",
        "import numpy as np\n",
        "import matplotlib.pyplot as plt\n",
        "import mne\n",
        "import os\n",
        "import sys\n",
        "from mne.datasets import eegbci\n",
        "import glob\n",
        "from IPython.display import clear_output\n",
        "import numpy as np\n",
        "\n",
        "from google.colab import drive\n",
        "\n",
        "# Modeling and training packages\n",
        "import torch\n",
        "from torch import nn\n",
        "import torch.optim as optim\n",
        "\n",
        "# Data Preparation packages\n",
        "from sklearn.model_selection import train_test_split\n",
        "from torch.utils.data import TensorDataset\n",
        "from torch.utils.data import DataLoader\n",
        "from scipy import signal\n",
        "\n",
        "#Configurations\n",
        "SEED = 1234\n",
        "torch.manual_seed(SEED)\n",
        "torch.backends.cudnn.deterministic = True"
      ],
      "execution_count": 2,
      "outputs": []
    },
    {
      "cell_type": "markdown",
      "metadata": {
        "id": "BNxSYLANliH0"
      },
      "source": [
        "# 1. Dataset Retrival"
      ]
    },
    {
      "cell_type": "code",
      "metadata": {
        "colab": {
          "base_uri": "https://localhost:8080/"
        },
        "id": "Te7-8mLifj0h",
        "outputId": "ff2ea896-b848-4116-a653-411f05f84e24"
      },
      "source": [
        "from google.colab import drive\n",
        "drive.mount('/content/drive')"
      ],
      "execution_count": 3,
      "outputs": [
        {
          "output_type": "stream",
          "name": "stdout",
          "text": [
            "Mounted at /content/drive\n"
          ]
        }
      ]
    },
    {
      "cell_type": "markdown",
      "metadata": {
        "id": "EuXo1ZHypQRp"
      },
      "source": [
        "Because the dataset was loaded to Google drive directory, mounting that directory"
      ]
    },
    {
      "cell_type": "code",
      "metadata": {
        "colab": {
          "base_uri": "https://localhost:8080/"
        },
        "id": "yGFP4477joVN",
        "outputId": "2d9cf368-96fb-461f-fc9d-70a7582318c6"
      },
      "source": [
        "drive.mount('/content/drive')"
      ],
      "execution_count": 4,
      "outputs": [
        {
          "output_type": "stream",
          "name": "stdout",
          "text": [
            "Drive already mounted at /content/drive; to attempt to forcibly remount, call drive.mount(\"/content/drive\", force_remount=True).\n"
          ]
        }
      ]
    },
    {
      "cell_type": "markdown",
      "metadata": {
        "id": "mYSQq5yqpZfs"
      },
      "source": [
        "Define dataset path. The dataset path should be the path that contains **RECORDS** files and folders referring to each subject"
      ]
    },
    {
      "cell_type": "code",
      "metadata": {
        "id": "Vqbd1NhSj75j"
      },
      "source": [
        "dataset_path = '/content/drive/MyDrive/CourseWork Resource/CPDSAI/project/files/'"
      ],
      "execution_count": 5,
      "outputs": []
    },
    {
      "cell_type": "markdown",
      "metadata": {
        "id": "4MwzqjQBpcC9"
      },
      "source": [
        "Write the function to do read preprocess and any neccessary steps fot generating raw X and y"
      ]
    },
    {
      "cell_type": "code",
      "metadata": {
        "id": "W6PM0f0AkPu4"
      },
      "source": [
        "class motorImagery:\n",
        "    def __init__(self, path=None, subjects=[1], runs=[1]):\n",
        "        self.path = path\n",
        "        self.edf_filenames = self.get_filenames(path)\n",
        "        self.raw = self.load_eeg(subjects, runs)\n",
        "        \n",
        "    def get_filenames(self, path):\n",
        "        file = open(dataset_path+'RECORDS')\n",
        "        edf_filenames = file.readlines()\n",
        "        file.close()\n",
        "        edf_filenames = [fname.rstrip() for fname in edf_filenames]\n",
        "        return edf_filenames\n",
        "    \n",
        "    def load_eeg(self, subjects, runs):    #load -> standardize -> notch_filter -> bandpass filter -> return\n",
        "    \n",
        "        fno = self.get_fileIndices(subjects, runs)\n",
        "        print('Loading files at index:', fno)\n",
        "        \n",
        "        raw_eegs = []\n",
        "        for idx,i in enumerate(fno):\n",
        "            path_file = os.path.join(self.path, self.edf_filenames[i])\n",
        "            sys.stdout.write(f\"\\rLoading file #{idx+1}/{len(fno)}: {path_file}\")\n",
        "            raw = mne.io.read_raw_edf( path_file , preload=True, verbose='WARNING' )\n",
        "            raw_eegs.append(raw)\n",
        "\n",
        "        raw = mne.io.concatenate_raws(raw_eegs)     # Concatenate all EEGs together\n",
        "        eegbci.standardize(raw)                     # Standardize channel names\n",
        "        montage = mne.channels.make_standard_montage('standard_1005')\n",
        "        raw.set_montage(montage)\n",
        "        return raw                                  \n",
        "    \n",
        "    def get_fileIndices(self, subjects, runs):\n",
        "        fno = []\n",
        "        subjects = [s-1 for s in subjects]  # start from 0, 1, 2, ...\n",
        "        for subject in subjects:\n",
        "            for run in runs:\n",
        "                fno.append(subject*14+run-1)   # 14 runs per subject\n",
        "        return fno\n",
        "    \n",
        "    def apply_filter(self, freq):\n",
        "        # Remove power line noise atrifacts at 50 Hz <-- European data so 50Hz powerline freq\n",
        "        #self.raw.notch_filter(50)\n",
        "        # Remove higher frequencies as they are redundant for analysis.\n",
        "        low_freq, high_freq = freq\n",
        "        self.raw.filter(low_freq, high_freq, fir_design='firwin')\n",
        "        \n",
        "    def get_ica(self, n=16):\n",
        "        self.ica = mne.preprocessing.ICA(n_components=n, max_iter='auto', random_state=97)\n",
        "        self.ica.fit(self.raw)\n",
        "        self.raw.load_data()\n",
        "        self.ica.plot_sources(self.raw)\n",
        "        self.ica.plot_components()\n",
        "        \n",
        "    def exclude_ic(self, channels):\n",
        "        self.ica.exclude = channels\n",
        "        self.ica.apply(self.raw)\n",
        "\n",
        "    def get_events(self):\n",
        "        event_id = dict(T1=2, T2=3)        # Define the events we want to extract\n",
        "        events, event_id = mne.events_from_annotations(self.raw, event_id=event_id)\n",
        "        return events, event_id\n",
        "    \n",
        "    def get_epochs(self, events, event_id):\n",
        "        # We don't need it for now but lets include it as it is a part of the pipeline of eeg classification\n",
        "        picks = mne.pick_types(self.raw.info, eeg=True, exclude='bads')\n",
        "\n",
        "        # tmin and tmax are relative to the event onset time. They decide the time interval (relative to event onset) taken to \n",
        "        # form the epoch from eeg signal. \n",
        "        tmin = -1  # A second before event cue \n",
        "        tmax = 4   # Four seconds after cue. Most events are of 4.1 or 4.2 seconds long as described in annotations.\n",
        "\n",
        "        # Read epochs (only the events described in our event_id will be included for training)\n",
        "        # For future try to use baseline subtraction method \n",
        "        epochs = mne.Epochs(self.raw, events, event_id, tmin, tmax, proj=False, \n",
        "                            picks=picks, baseline=None, preload=True)\n",
        "\n",
        "        # Only eeg signals in time interval 1-2 sec will be used for training -> 1 sec after event cue to 2 sec after cue.\n",
        "        # This is to avoid the evoked potentials arising in brain in response to event cue.\n",
        "        epochs_train = epochs.copy().crop(tmin=0., tmax=4.)\n",
        "        montage = mne.channels.make_standard_montage('standard_1005')\n",
        "        epochs_train.set_montage(montage)\n",
        "        \n",
        "        return epochs_train\n",
        "    \n",
        "    def downsample(self, epochs, factor):\n",
        "        return epochs.decimate(factor)\n",
        "        \n",
        "    def return_epochs(self, freq=(1, 35), dsamplingFactor=1, channel_selection=False, channels=None):\n",
        "        events, event_id = self.get_events()\n",
        "        self.epochs = self.get_epochs(events, event_id)\n",
        "        self.epochs = self.downsample(self.epochs, dsamplingFactor)\n",
        "        self.labels = self.epochs.events[:,-1] - 2        # Convert from 2,3 to 0,1 and assign to labels for training\n",
        "        if channel_selection:\n",
        "            if channels is None:\n",
        "                self.epochs = self.epochs.pick_channels(self.epochs.ch_names[:21])\n",
        "            else:\n",
        "                self.epochs = self.epochs.pick_channels(channels)\n",
        "        return self.epochs, self.labels\n",
        "    \n",
        "    def get_X_y(self, channel_selection=False, channels=None):\n",
        "        self.return_epochs(channel_selection=channel_selection, channels=channels)\n",
        "        return self.epochs.get_data(), self.labels"
      ],
      "execution_count": 143,
      "outputs": []
    },
    {
      "cell_type": "markdown",
      "metadata": {
        "id": "LBkpyOZxpljp"
      },
      "source": [
        "To get X and y of Dataset, just simply implement the function"
      ]
    },
    {
      "cell_type": "code",
      "metadata": {
        "colab": {
          "base_uri": "https://localhost:8080/"
        },
        "id": "NsprI3zMnaBO",
        "outputId": "e6049a7f-7df5-4068-8fc1-9e4f6039d294"
      },
      "source": [
        "# Define subject list and runs number\n",
        "subjects = [i for i in range(1, 61)]\n",
        "runs = [5,9,13]\n",
        "freq_select = (1,40)\n",
        "\n",
        "# initialize dataset\n",
        "eeg = motorImagery(dataset_path, subjects, runs)\n",
        "\n",
        "# do filtering frequency\n",
        "# eeg.apply_filter(freq=freq_select)\n",
        "\n",
        "# gather X and y\n",
        "X, y = eeg.get_X_y(channel_selection=True, channels=['FC3','FC4'])\n",
        "\n",
        "X.shape"
      ],
      "execution_count": 173,
      "outputs": [
        {
          "output_type": "stream",
          "name": "stdout",
          "text": [
            "Loading files at index: [4, 8, 12, 18, 22, 26, 32, 36, 40, 46, 50, 54, 60, 64, 68, 74, 78, 82, 88, 92, 96, 102, 106, 110, 116, 120, 124, 130, 134, 138, 144, 148, 152, 158, 162, 166, 172, 176, 180, 186, 190, 194, 200, 204, 208, 214, 218, 222, 228, 232, 236, 242, 246, 250, 256, 260, 264, 270, 274, 278, 284, 288, 292, 298, 302, 306, 312, 316, 320, 326, 330, 334, 340, 344, 348, 354, 358, 362, 368, 372, 376, 382, 386, 390, 396, 400, 404, 410, 414, 418, 424, 428, 432, 438, 442, 446, 452, 456, 460, 466, 470, 474, 480, 484, 488, 494, 498, 502, 508, 512, 516, 522, 526, 530, 536, 540, 544, 550, 554, 558, 564, 568, 572, 578, 582, 586, 592, 596, 600, 606, 610, 614, 620, 624, 628, 634, 638, 642, 648, 652, 656, 662, 666, 670, 676, 680, 684, 690, 694, 698, 704, 708, 712, 718, 722, 726, 732, 736, 740, 746, 750, 754, 760, 764, 768, 774, 778, 782, 788, 792, 796, 802, 806, 810, 816, 820, 824, 830, 834, 838]\n",
            "Loading file #180/180: /content/drive/MyDrive/CourseWork Resource/CPDSAI/project/files/S060/S060R13.edfUsed Annotations descriptions: ['T1', 'T2']\n",
            "Not setting metadata\n",
            "Not setting metadata\n",
            "2700 matching events found\n",
            "No baseline correction applied\n",
            "Loading data for 2700 events and 801 original time points ...\n",
            "12 bad epochs dropped\n"
          ]
        },
        {
          "output_type": "execute_result",
          "data": {
            "text/plain": [
              "(2688, 2, 641)"
            ]
          },
          "metadata": {},
          "execution_count": 173
        }
      ]
    },
    {
      "cell_type": "markdown",
      "metadata": {
        "id": "nBOtjQF8lwBj"
      },
      "source": [
        "# 2. Data Preprocessing\n",
        "\n",
        "This is to prepare CNN data form (if implementing RNN, deactivate this cell)"
      ]
    },
    {
      "cell_type": "code",
      "metadata": {
        "colab": {
          "base_uri": "https://localhost:8080/"
        },
        "id": "4pTrB04QnraM",
        "outputId": "a6b5cd08-cd06-4132-ba5a-af2f199497a2"
      },
      "source": [
        "X = X[:, np.newaxis,:,:]\n",
        "X.shape"
      ],
      "execution_count": 174,
      "outputs": [
        {
          "output_type": "execute_result",
          "data": {
            "text/plain": [
              "(2688, 1, 2, 641)"
            ]
          },
          "metadata": {},
          "execution_count": 174
        }
      ]
    },
    {
      "cell_type": "code",
      "metadata": {
        "colab": {
          "base_uri": "https://localhost:8080/"
        },
        "id": "Gx7QpHnZxv4p",
        "outputId": "1ab40677-99cf-498e-e8b1-c083058c9416"
      },
      "source": [
        "np.unique(y)"
      ],
      "execution_count": 142,
      "outputs": [
        {
          "output_type": "execute_result",
          "data": {
            "text/plain": [
              "array([0, 1])"
            ]
          },
          "metadata": {},
          "execution_count": 142
        }
      ]
    },
    {
      "cell_type": "code",
      "metadata": {
        "id": "gKVHTHiQFXNo",
        "colab": {
          "base_uri": "https://localhost:8080/",
          "height": 295
        },
        "outputId": "d1b52871-23ab-410f-89ac-75eabcf45dc6"
      },
      "source": [
        "plt.plot(X[0, 0, 0,:])\n",
        "plt.title('Example eeg signal')\n",
        "plt.xlabel('time')\n",
        "plt.ylabel('amplitude ($\\mu V$)' )\n",
        "plt.show()"
      ],
      "execution_count": 175,
      "outputs": [
        {
          "output_type": "display_data",
          "data": {
            "image/png": "[encoded data removed]",
            "text/plain": [
              "<Figure size 432x288 with 1 Axes>"
            ]
          },
          "metadata": {
            "needs_background": "light"
          }
        }
      ]
    },
    {
      "cell_type": "code",
      "metadata": {
        "colab": {
          "base_uri": "https://localhost:8080/",
          "height": 295
        },
        "id": "rCywvtsphO8r",
        "outputId": "6c5a521e-6bba-4eba-8660-9701e7a347d0"
      },
      "source": [
        "plt.plot(X[0, 0, 1,:])\n",
        "plt.title('Example eeg signal')\n",
        "plt.xlabel('time')\n",
        "plt.ylabel('amplitude ($\\mu V$)' )\n",
        "plt.show()"
      ],
      "execution_count": 176,
      "outputs": [
        {
          "output_type": "display_data",
          "data": {
            "image/png": "[encoded data removed]",
            "text/plain": [
              "<Figure size 432x288 with 1 Axes>"
            ]
          },
          "metadata": {
            "needs_background": "light"
          }
        }
      ]
    },
    {
      "cell_type": "markdown",
      "metadata": {
        "id": "2C_t5d84tDFQ"
      },
      "source": [
        "**Wavelet Transform**\n",
        "\n",
        "Wavelet transform will generate amplitude values corespoding with specific frequency for continuous times\n",
        "\n",
        "From CNN input (raw EEG) shape **(batch size, time sequence, channels)** will be transformed to **(batch size, channels, frequency range (height of image), time sequence (width of image))**"
      ]
    },
    {
      "cell_type": "code",
      "metadata": {
        "id": "tcNCxh_Gs_q3"
      },
      "source": [
        "def wavelet_transform(X, freq_arange):\n",
        "\n",
        "    transformed_X = np.zeros((X.shape[0], X.shape[2], max(freq_arange), X.shape[-1]))\n",
        "\n",
        "    for x_i in range(X.shape[0]):\n",
        "\n",
        "        for chan_i in range(X.shape[2]):\n",
        "\n",
        "            transformed_X[x_i, chan_i,:,:] = signal.cwt(X[x_i, 0, chan_i, :], signal.ricker, freq_arange)\n",
        "\n",
        "    return transformed_X"
      ],
      "execution_count": null,
      "outputs": []
    },
    {
      "cell_type": "markdown",
      "metadata": {
        "id": "pRWghzDcxt0F"
      },
      "source": [
        "After define function to transform, perform it"
      ]
    },
    {
      "cell_type": "code",
      "metadata": {
        "id": "qlQh2cbbxtc9"
      },
      "source": [
        "# X_cwt = wavelet_transform(X, np.arange(1, 41)) # frequency range is 1 - 40"
      ],
      "execution_count": null,
      "outputs": []
    },
    {
      "cell_type": "markdown",
      "metadata": {
        "id": "pSMUR3_JxraF"
      },
      "source": [
        "The transformed shape will be **(batch size, channels, freq_range, time_seq)**"
      ]
    },
    {
      "cell_type": "code",
      "metadata": {
        "colab": {
          "base_uri": "https://localhost:8080/"
        },
        "id": "T_Ev-fgOqFBZ",
        "outputId": "f03fc086-d769-4222-bcbe-ae44fc0fad47"
      },
      "source": [
        "# X_cwt.shape"
      ],
      "execution_count": null,
      "outputs": [
        {
          "output_type": "execute_result",
          "data": {
            "text/plain": [
              "(450, 64, 40, 161)"
            ]
          },
          "metadata": {},
          "execution_count": 10
        }
      ]
    },
    {
      "cell_type": "markdown",
      "metadata": {
        "id": "U5upTEQYr8L2"
      },
      "source": [
        "Example of batch 0 and channel 0 will be"
      ]
    },
    {
      "cell_type": "code",
      "metadata": {
        "colab": {
          "base_uri": "https://localhost:8080/",
          "height": 265
        },
        "id": "-265kzfXqFDg",
        "outputId": "560c8246-dcc4-47df-b4e5-a54aaae9b4d2"
      },
      "source": [
        "# plt.imshow(X_cwt[0,0])\n",
        "# plt.colorbar(label='$\\mu V$')\n",
        "# plt.ylabel('frequency')\n",
        "# plt.xlabel('time sampling')\n",
        "# plt.title('Example of CWT eeg signal of batch 0 and channel 0')"
      ],
      "execution_count": null,
      "outputs": [
        {
          "output_type": "execute_result",
          "data": {
            "text/plain": [
              "Text(0.5, 1.0, 'Example of CWT eeg signal of batch 0 and channel 0')"
            ]
          },
          "metadata": {},
          "execution_count": 11
        },
        {
          "output_type": "display_data",
          "data": {
            "image/png": "[encoded data removed]",
            "text/plain": [
              "<Figure size 432x288 with 2 Axes>"
            ]
          },
          "metadata": {
            "needs_background": "light"
          }
        }
      ]
    },
    {
      "cell_type": "markdown",
      "metadata": {
        "id": "NL2ZJhWGoUkY"
      },
      "source": [
        "This is to prepare RNN data form (if implementing CNN, deactivate this cell)"
      ]
    },
    {
      "cell_type": "code",
      "metadata": {
        "id": "E-Uzzbl7nrfT",
        "colab": {
          "base_uri": "https://localhost:8080/"
        },
        "outputId": "9dbbefbc-26d9-47cc-9b55-98db4b7907ab"
      },
      "source": [
        "# X = np.transpose(X, (0,2,1))\n",
        "# X.shape"
      ],
      "execution_count": null,
      "outputs": [
        {
          "output_type": "execute_result",
          "data": {
            "text/plain": [
              "(450, 161, 64)"
            ]
          },
          "metadata": {},
          "execution_count": 8
        }
      ]
    },
    {
      "cell_type": "markdown",
      "metadata": {
        "id": "ArDgBb2NoYo_"
      },
      "source": [
        "Due to small value of EEG signal regarding to X. the values will be scaled up. Actually, the signal values are the micro volt ($10^{-6}$) unit converted to volt. So that, the value should be rescaled to micro volt again to a scale of a unit of +1.0 or -1.0."
      ]
    },
    {
      "cell_type": "code",
      "metadata": {
        "colab": {
          "base_uri": "https://localhost:8080/"
        },
        "id": "PXutFx3inyrm",
        "outputId": "6ab00bef-b780-423b-d441-3c4aa6c17abd"
      },
      "source": [
        "X = X *10000\n",
        "X[0]"
      ],
      "execution_count": 177,
      "outputs": [
        {
          "output_type": "execute_result",
          "data": {
            "text/plain": [
              "array([[[ 0.17,  0.11, -0.1 , ..., -0.41, -0.05,  0.06],\n",
              "        [-0.37, -0.29, -0.47, ..., -0.37, -0.06, -0.01]]])"
            ]
          },
          "metadata": {},
          "execution_count": 177
        }
      ]
    },
    {
      "cell_type": "code",
      "metadata": {
        "id": "_F8GkCmdi9gC"
      },
      "source": [
        ""
      ],
      "execution_count": 131,
      "outputs": []
    },
    {
      "cell_type": "markdown",
      "metadata": {
        "id": "hJiHBZBjoljS"
      },
      "source": [
        "Next function is to prepare X and y as numpy array into pytorch DataLoader"
      ]
    },
    {
      "cell_type": "code",
      "metadata": {
        "id": "lfM3oKmrn7Rh"
      },
      "source": [
        "def Xy_dataloader(X_numpy, y_numpy, batch_size=32):\n",
        "    \n",
        "    X_tensor = torch.tensor(X_numpy).float()\n",
        "    y_tensor = torch.tensor(y_numpy).long()\n",
        "    \n",
        "    dataset = TensorDataset(X_tensor, y_tensor)\n",
        "\n",
        "    loader = DataLoader(dataset, batch_size=batch_size,shuffle=True)\n",
        "    \n",
        "    return loader"
      ],
      "execution_count": 147,
      "outputs": []
    },
    {
      "cell_type": "markdown",
      "metadata": {
        "id": "xBtWmbP7ouhH"
      },
      "source": [
        "Before Loading data into DataLoader, split X and y into train set and test (validation) set."
      ]
    },
    {
      "cell_type": "code",
      "metadata": {
        "id": "6hXudvrkn-fa"
      },
      "source": [
        "X_train, X_test, y_train, y_test = train_test_split(X, y, test_size=0.3, stratify=y)"
      ],
      "execution_count": 178,
      "outputs": []
    },
    {
      "cell_type": "markdown",
      "metadata": {
        "id": "zvhoCEjXo3aD"
      },
      "source": [
        "Load training set and test set for DataLoader"
      ]
    },
    {
      "cell_type": "code",
      "metadata": {
        "id": "giSLfNt4oAnR"
      },
      "source": [
        "train_loader = Xy_dataloader(X_train, y_train, 32)\n",
        "test_loader = Xy_dataloader(X_test, y_test, 32)"
      ],
      "execution_count": 179,
      "outputs": []
    },
    {
      "cell_type": "markdown",
      "metadata": {
        "id": "OQR7A_Gjlv6z"
      },
      "source": [
        "# 3. Modeling"
      ]
    },
    {
      "cell_type": "code",
      "metadata": {
        "colab": {
          "base_uri": "https://localhost:8080/"
        },
        "id": "d3dX2x3Gk2nQ",
        "outputId": "44597a7e-d315-43b5-9255-514e4bebad33"
      },
      "source": [
        "x = next(iter(train_loader))[0]\n",
        "x.shape"
      ],
      "execution_count": 63,
      "outputs": [
        {
          "output_type": "execute_result",
          "data": {
            "text/plain": [
              "torch.Size([32, 1, 2, 641])"
            ]
          },
          "metadata": {},
          "execution_count": 63
        }
      ]
    },
    {
      "cell_type": "code",
      "metadata": {
        "colab": {
          "base_uri": "https://localhost:8080/"
        },
        "id": "tcjafxyuk2w3",
        "outputId": "aee31188-a1c3-466a-8dc0-149f905bd971"
      },
      "source": [
        "conv1 = torch.nn.Conv2d(1, 25, kernel_size=(1, 11), stride=1)\n",
        "x = conv1(x)\n",
        "x.shape"
      ],
      "execution_count": 64,
      "outputs": [
        {
          "output_type": "execute_result",
          "data": {
            "text/plain": [
              "torch.Size([32, 25, 2, 631])"
            ]
          },
          "metadata": {},
          "execution_count": 64
        }
      ]
    },
    {
      "cell_type": "code",
      "metadata": {
        "colab": {
          "base_uri": "https://localhost:8080/"
        },
        "id": "EnIqsULtk2ze",
        "outputId": "e2224a80-4d07-4cb8-f5de-36e10839cfdc"
      },
      "source": [
        "conv2 = torch.nn.Conv2d(25,25, kernel_size=(2,1), stride=1)\n",
        "maxpool2d = torch.nn.MaxPool2d(kernel_size=(1,3), stride=3)\n",
        "x = conv2(x)\n",
        "x = maxpool2d(x)\n",
        "x.shape"
      ],
      "execution_count": 65,
      "outputs": [
        {
          "output_type": "execute_result",
          "data": {
            "text/plain": [
              "torch.Size([32, 25, 1, 210])"
            ]
          },
          "metadata": {},
          "execution_count": 65
        }
      ]
    },
    {
      "cell_type": "code",
      "metadata": {
        "colab": {
          "base_uri": "https://localhost:8080/"
        },
        "id": "nQGx6EFPk21a",
        "outputId": "2365f22c-c472-4214-8144-ad68c26a1dfc"
      },
      "source": [
        "conv3 = torch.nn.Conv2d(25,50, kernel_size=(1,11), stride=1)\n",
        "x = conv3(x)\n",
        "x = maxpool2d(x)\n",
        "x.shape"
      ],
      "execution_count": 66,
      "outputs": [
        {
          "output_type": "execute_result",
          "data": {
            "text/plain": [
              "torch.Size([32, 50, 1, 66])"
            ]
          },
          "metadata": {},
          "execution_count": 66
        }
      ]
    },
    {
      "cell_type": "code",
      "metadata": {
        "colab": {
          "base_uri": "https://localhost:8080/"
        },
        "id": "WkJIQAXsnqhO",
        "outputId": "aa9777a4-5e59-43df-f478-68b6e1051181"
      },
      "source": [
        "conv4 = torch.nn.Conv2d(50,100, kernel_size=(1,11), stride=1)\n",
        "x = conv4(x)\n",
        "x = maxpool2d(x)\n",
        "x.shape"
      ],
      "execution_count": 67,
      "outputs": [
        {
          "output_type": "execute_result",
          "data": {
            "text/plain": [
              "torch.Size([32, 100, 1, 18])"
            ]
          },
          "metadata": {},
          "execution_count": 67
        }
      ]
    },
    {
      "cell_type": "code",
      "metadata": {
        "colab": {
          "base_uri": "https://localhost:8080/"
        },
        "id": "l8a4BX3wn3It",
        "outputId": "8099186a-f46b-45b9-a5fd-2b64bd9bd542"
      },
      "source": [
        "conv5 = torch.nn.Conv2d(100, 200, kernel_size=(1,11), stride=1)\n",
        "maxpool2d2 = torch.nn.MaxPool2d(kernel_size=(1,2), stride=2)\n",
        "x = conv5(x)\n",
        "x = maxpool2d2(x)\n",
        "x.shape"
      ],
      "execution_count": 68,
      "outputs": [
        {
          "output_type": "execute_result",
          "data": {
            "text/plain": [
              "torch.Size([32, 200, 1, 4])"
            ]
          },
          "metadata": {},
          "execution_count": 68
        }
      ]
    },
    {
      "cell_type": "code",
      "metadata": {
        "colab": {
          "base_uri": "https://localhost:8080/"
        },
        "id": "-z2Eemj1oVTH",
        "outputId": "be7995df-93cf-4d86-852d-2f954cfc9d0d"
      },
      "source": [
        "x = x.reshape(x.size(0), -1)\n",
        "x.shape"
      ],
      "execution_count": 69,
      "outputs": [
        {
          "output_type": "execute_result",
          "data": {
            "text/plain": [
              "torch.Size([32, 800])"
            ]
          },
          "metadata": {},
          "execution_count": 69
        }
      ]
    },
    {
      "cell_type": "code",
      "metadata": {
        "colab": {
          "base_uri": "https://localhost:8080/"
        },
        "id": "y63IHY_ZobyN",
        "outputId": "7ca0cb26-e8a7-4d1f-bddb-2a26345af556"
      },
      "source": [
        "fc = torch.nn.Linear(800, 2)\n",
        "x = fc(x)\n",
        "x.shape"
      ],
      "execution_count": 70,
      "outputs": [
        {
          "output_type": "execute_result",
          "data": {
            "text/plain": [
              "torch.Size([32, 2])"
            ]
          },
          "metadata": {},
          "execution_count": 70
        }
      ]
    },
    {
      "cell_type": "markdown",
      "metadata": {
        "id": "BW1s7iXIqXHO"
      },
      "source": [
        "Modeling section will make 2 Model set including RNN based and CNN based. "
      ]
    },
    {
      "cell_type": "code",
      "metadata": {
        "id": "MxzJORWxl2fR"
      },
      "source": [
        "class RNNModel(nn.Module):\n",
        "    \n",
        "    def __init__(self, input_dim, hidden_dim, output_dim):\n",
        "        super().__init__()\n",
        "        \n",
        "        self.rnn = nn.LSTM(input_dim, hidden_dim, num_layers=1, batch_first=True)\n",
        "        \n",
        "        self.fc = nn.Linear(hidden_dim, output_dim)\n",
        "        \n",
        "    def forward(self, x):\n",
        "        \n",
        "        #[batch size, seq len, embed dim]\n",
        "        out, (x, _) = self.rnn(x)  #if no h0, all zeroes\n",
        "\n",
        "        x = self.fc(x.squeeze(0))\n",
        "        \n",
        "        return x.squeeze(1)"
      ],
      "execution_count": null,
      "outputs": []
    },
    {
      "cell_type": "code",
      "metadata": {
        "id": "ZBRzNyCkq1F9"
      },
      "source": [
        "class CNNModel(nn.Module):\n",
        "    \n",
        "    def __init__(self, input_dim, output_dim):\n",
        "        super().__init__()\n",
        "        \n",
        "        self.conv1 = nn.Sequential(nn.Conv2d(input_dim[1], 128, kernel_size=(3, 3), stride=1, padding=1),\n",
        "                                  nn.BatchNorm2d(128),\n",
        "                                  nn.ReLU(),\n",
        "                                  nn.MaxPool2d(2,2))\n",
        "        \n",
        "        self.conv2 = nn.Sequential(nn.Conv2d(128, 256, kernel_size=(3, 3), stride=1, padding=1),\n",
        "                                  nn.BatchNorm2d(256),\n",
        "                                  nn.ReLU(),\n",
        "                                  nn.MaxPool2d(2,2))\n",
        "        \n",
        "        self.conv3 = nn.Sequential(nn.Conv2d(256, 512, kernel_size=(3, 3), stride=1, padding=1),\n",
        "                                  nn.BatchNorm2d(512),\n",
        "                                  nn.ReLU(),\n",
        "                                  nn.MaxPool2d(2,2))\n",
        "        \n",
        "        self.dropout = nn.Dropout(0.5)\n",
        "\n",
        "        self.fc1 = nn.Linear(512 * 5 * 20, 1024)\n",
        "        self.fc2 = nn.Linear(1024, 2)\n",
        "        \n",
        "    def forward(self, x):\n",
        "        # print(x.shape)\n",
        "        #[batch size, seq len, embed dim]\n",
        "\n",
        "        x = self.conv1(x)  #if no h0, all zeroes\n",
        "        # print(x.shape)\n",
        "        x = self.dropout(x)\n",
        "\n",
        "        x = self.conv2(x)\n",
        "        # print(x.shape)\n",
        "        x = self.dropout(x)\n",
        "\n",
        "        x = self.conv3(x)\n",
        "        x = self.dropout(x)\n",
        "        # print(x.shape)\n",
        "\n",
        "        x = x.reshape(x.size(0),-1)\n",
        "        # print(x.shape)\n",
        "\n",
        "        x = self.dropout(x)\n",
        "        x = self.fc1(x)\n",
        "        \n",
        "        x = self.dropout(x)\n",
        "        x = self.fc2(x)\n",
        "        \n",
        "        return x"
      ],
      "execution_count": null,
      "outputs": []
    },
    {
      "cell_type": "code",
      "metadata": {
        "id": "OtsVmXuMjnJD"
      },
      "source": [
        "class CNN_paper(nn.Module):\n",
        "    def __init__(self,):     \n",
        "        super(CNN_paper, self).__init__()\n",
        "        \n",
        "        # input (450, 1, 2, 641)\n",
        "\n",
        "        self.conv1 = nn.Sequential(nn.Conv2d(1, 25, kernel_size=(1,11), stride=1), \n",
        "                                   nn.LeakyReLU(), \n",
        "                                   nn.Dropout2d(p=0.5))\n",
        "        # output (450, 25, 2, 631)\n",
        "        \n",
        "        self.conv2 = nn.Sequential(nn.Conv2d(25, 25, kernel_size=(2,1)), \n",
        "                                   nn.BatchNorm2d(25),\n",
        "                                   nn.LeakyReLU(), \n",
        "                                   nn.MaxPool2d(kernel_size=(1,3), stride=3))\n",
        "        \n",
        "        # output (450, 25, 1, 210)\n",
        "        \n",
        "        self.conv3 = nn.Sequential(nn.Conv2d(25, 50, kernel_size=(1,11), stride=1), \n",
        "                                   nn.LeakyReLU(), \n",
        "                                   nn.Dropout2d(p=0.5),\n",
        "                                   nn.MaxPool2d(kernel_size=(1,3), stride=3))\n",
        "        # output (450, 50, 1, 66)\n",
        "        \n",
        "        self.conv4 = nn.Sequential(nn.Conv2d(50, 100, kernel_size=(1,11), stride=1), \n",
        "                                   nn.BatchNorm2d(100),\n",
        "                                   nn.LeakyReLU(), \n",
        "                                   nn.Dropout2d(p=0.5),\n",
        "                                   nn.MaxPool2d(kernel_size=(1,3), stride=3))\n",
        "        # output (450, 100, 1, 18)\n",
        "        \n",
        "        self.conv5 = nn.Sequential(nn.Conv2d(100, 200, kernel_size=(1,11), stride=1), \n",
        "                                   nn.BatchNorm2d(200),\n",
        "                                   nn.LeakyReLU(),\n",
        "                                  #  nn.Dropout(p=0.5),\n",
        "                                   nn.MaxPool2d(kernel_size=(1,2), stride=2))\n",
        "        # output (450, 200, 1, 4)\n",
        "        \n",
        "        self.fc = nn.Linear(800,2)\n",
        "        \n",
        "    def forward(self, x):\n",
        "        x = self.conv1(x)\n",
        "        # print(x.shape)\n",
        "        x = self.conv2(x)\n",
        "        x = self.conv3(x)\n",
        "        x = self.conv4(x)\n",
        "        x = self.conv5(x)\n",
        "        #print('x:', x.shape)\n",
        "        x = x.reshape(x.size(0), -1)\n",
        "        x = self.fc(x)\n",
        "        # x = F.dropout(x)\n",
        "        return x"
      ],
      "execution_count": 180,
      "outputs": []
    },
    {
      "cell_type": "markdown",
      "metadata": {
        "id": "pr9zoxSzl3rD"
      },
      "source": [
        "# 4. Training Model"
      ]
    },
    {
      "cell_type": "markdown",
      "metadata": {
        "id": "X8yI4aTTq8BD"
      },
      "source": [
        "Before constructing model instance, check wheter GPU is work or not"
      ]
    },
    {
      "cell_type": "code",
      "metadata": {
        "colab": {
          "base_uri": "https://localhost:8080/"
        },
        "id": "n95kfa8Jq8SL",
        "outputId": "73460c59-53e1-47f7-bebc-0b9fa562e1c5"
      },
      "source": [
        "device = torch.device('cuda' if torch.cuda.is_available() else 'cpu')\n",
        "print('pytorch is using: ', device)"
      ],
      "execution_count": 164,
      "outputs": [
        {
          "output_type": "stream",
          "name": "stdout",
          "text": [
            "pytorch is using:  cuda\n"
          ]
        }
      ]
    },
    {
      "cell_type": "code",
      "metadata": {
        "id": "VqMveN2U50Zs"
      },
      "source": [
        "# device = 'cpu'"
      ],
      "execution_count": 152,
      "outputs": []
    },
    {
      "cell_type": "markdown",
      "metadata": {
        "id": "JrKmoa2CsRbe"
      },
      "source": [
        "Create Model instance"
      ]
    },
    {
      "cell_type": "code",
      "metadata": {
        "id": "8jE5TQVGr9ki"
      },
      "source": [
        "# model = RNNModel(X.shape[2], 1024, len(np.unique(y))).to(device)\n",
        "# model = CNNModel(X.shape, len(np.unique(y))).to(device)\n",
        "model = CNN_paper().to(device)"
      ],
      "execution_count": 181,
      "outputs": []
    },
    {
      "cell_type": "markdown",
      "metadata": {
        "id": "q8zgip404xkd"
      },
      "source": [
        "Define Optimizer and Loss function"
      ]
    },
    {
      "cell_type": "code",
      "metadata": {
        "id": "EN55K1MusUhT"
      },
      "source": [
        "optimizer = optim.Adam(model.parameters(), lr=1e-5)\n",
        "criterion = nn.CrossEntropyLoss()"
      ],
      "execution_count": 182,
      "outputs": []
    },
    {
      "cell_type": "markdown",
      "metadata": {
        "id": "usOAbzsR41WT"
      },
      "source": [
        "Define Xavier initialization which helps init weight better to prevent model training from gradient vanishing or exploding"
      ]
    },
    {
      "cell_type": "code",
      "metadata": {
        "colab": {
          "base_uri": "https://localhost:8080/"
        },
        "id": "qv4i_fGCsbaM",
        "outputId": "b03dd48c-43c3-4997-d5f5-774cb654b73c"
      },
      "source": [
        "#explicitly initialize weights for better learning\n",
        "def initialize_weights(m):\n",
        "    if isinstance(m, nn.Linear):\n",
        "        nn.init.xavier_normal_(m.weight)\n",
        "        nn.init.zeros_(m.bias)\n",
        "    elif isinstance(m, nn.RNN):\n",
        "        for name, param in m.named_parameters():\n",
        "            if 'bias' in name:\n",
        "                nn.init.zeros_(param)\n",
        "            elif 'weight' in name:\n",
        "                nn.init.orthogonal_(param) #<---here\n",
        "                \n",
        "model.apply(initialize_weights)"
      ],
      "execution_count": 183,
      "outputs": [
        {
          "output_type": "execute_result",
          "data": {
            "text/plain": [
              "CNN_paper(\n",
              "  (conv1): Sequential(\n",
              "    (0): Conv2d(1, 25, kernel_size=(1, 11), stride=(1, 1))\n",
              "    (1): LeakyReLU(negative_slope=0.01)\n",
              "    (2): Dropout2d(p=0.5, inplace=False)\n",
              "  )\n",
              "  (conv2): Sequential(\n",
              "    (0): Conv2d(25, 25, kernel_size=(2, 1), stride=(1, 1))\n",
              "    (1): BatchNorm2d(25, eps=1e-05, momentum=0.1, affine=True, track_running_stats=True)\n",
              "    (2): LeakyReLU(negative_slope=0.01)\n",
              "    (3): MaxPool2d(kernel_size=(1, 3), stride=3, padding=0, dilation=1, ceil_mode=False)\n",
              "  )\n",
              "  (conv3): Sequential(\n",
              "    (0): Conv2d(25, 50, kernel_size=(1, 11), stride=(1, 1))\n",
              "    (1): LeakyReLU(negative_slope=0.01)\n",
              "    (2): Dropout2d(p=0.5, inplace=False)\n",
              "    (3): MaxPool2d(kernel_size=(1, 3), stride=3, padding=0, dilation=1, ceil_mode=False)\n",
              "  )\n",
              "  (conv4): Sequential(\n",
              "    (0): Conv2d(50, 100, kernel_size=(1, 11), stride=(1, 1))\n",
              "    (1): BatchNorm2d(100, eps=1e-05, momentum=0.1, affine=True, track_running_stats=True)\n",
              "    (2): LeakyReLU(negative_slope=0.01)\n",
              "    (3): Dropout2d(p=0.5, inplace=False)\n",
              "    (4): MaxPool2d(kernel_size=(1, 3), stride=3, padding=0, dilation=1, ceil_mode=False)\n",
              "  )\n",
              "  (conv5): Sequential(\n",
              "    (0): Conv2d(100, 200, kernel_size=(1, 11), stride=(1, 1))\n",
              "    (1): BatchNorm2d(200, eps=1e-05, momentum=0.1, affine=True, track_running_stats=True)\n",
              "    (2): LeakyReLU(negative_slope=0.01)\n",
              "    (3): MaxPool2d(kernel_size=(1, 2), stride=2, padding=0, dilation=1, ceil_mode=False)\n",
              "  )\n",
              "  (fc): Linear(in_features=800, out_features=2, bias=True)\n",
              ")"
            ]
          },
          "metadata": {},
          "execution_count": 183
        }
      ]
    },
    {
      "cell_type": "markdown",
      "metadata": {
        "id": "OdIU5isP5Ckt"
      },
      "source": [
        "Lets define the training function with validation set"
      ]
    },
    {
      "cell_type": "code",
      "metadata": {
        "id": "QE1NY-jRr9nA"
      },
      "source": [
        "def train_model(model, train_dataloader, valid_dataloader, \n",
        "                epochs, criterion, optimizer, print_epoch=1000):\n",
        "    \n",
        "    loss_train = []\n",
        "    loss_valid = []\n",
        "    acc_train = []\n",
        "    acc_valid = []\n",
        "    \n",
        "    for i in range(1, epochs+1):\n",
        "        \n",
        "        # ===================TRAIN ======================\n",
        "        model.train()\n",
        "        \n",
        "        epoch_loss = 0\n",
        "        correct = 0\n",
        "        \n",
        "        for x, y in train_dataloader:\n",
        "            \n",
        "            x = x.to(device)\n",
        "            y = y.to(device)\n",
        "            \n",
        "            out = model(x)\n",
        "            \n",
        "            loss = criterion(out, y)\n",
        "            \n",
        "            _,pred = torch.max(out, 1)\n",
        "            \n",
        "            correct += (pred == y).to('cpu').float().sum()\n",
        "            \n",
        "            epoch_loss += loss.item()\n",
        "            \n",
        "            #backprop\n",
        "            optimizer.zero_grad()\n",
        "            loss.backward()\n",
        "            optimizer.step()\n",
        "        \n",
        "        acc_train.append(100 * correct / len(train_dataloader.dataset))\n",
        "        loss_train.append(epoch_loss/len(train_dataloader))\n",
        "        # loss_train.append(epoch_loss)\n",
        "        \n",
        "        # ===================VALIDATION =================\n",
        "        model.eval()\n",
        "    \n",
        "        epoch_loss = 0\n",
        "        correct = 0\n",
        "        \n",
        "        for x, y in valid_dataloader:\n",
        "            \n",
        "            x = x.to(device)\n",
        "            y = y.to(device)\n",
        "            \n",
        "            out = model(x)\n",
        "            \n",
        "            loss = criterion(out, y)\n",
        "            \n",
        "            _,pred = torch.max(out, 1)\n",
        "            \n",
        "            correct += (pred == y).to('cpu').float().sum()\n",
        "            \n",
        "            epoch_loss += loss.item()\n",
        "        \n",
        "        acc_valid.append(100 * correct / len(valid_dataloader.dataset))\n",
        "        loss_valid.append(epoch_loss/len(valid_dataloader))\n",
        "        # loss_valid.append(epoch_loss)\n",
        "        \n",
        "        # ================= PRINT ===========================\n",
        "        if i % print_epoch == 0 :\n",
        "            clear_output(wait=True)\n",
        "            print(f'epoch {i}/{epochs} train loss: {np.round(loss_train[-1],5)} train acc: {np.round(acc_train[-1],5)} validation loss: {np.round(loss_valid[-1],5)} validation acc: {np.round(acc_valid[-1],5)}')\n",
        "            plt.plot(loss_train, label='train')\n",
        "            plt.plot(loss_valid, label='test')\n",
        "            plt.title('Loss during Training')\n",
        "            plt.xlabel('epoch')\n",
        "            plt.ylabel('loss')\n",
        "            plt.legend()\n",
        "            plt.show()\n",
        "\n",
        "            plt.plot(acc_train, label='train')\n",
        "            plt.plot(acc_valid, label='test')\n",
        "            plt.title('Accuracy during Training')\n",
        "            plt.xlabel('epoch')\n",
        "            plt.ylabel('accuracy')\n",
        "            plt.legend()\n",
        "            plt.show()    \n",
        "            \n",
        "    return model, loss_train, loss_valid, acc_train, acc_valid\n",
        "            "
      ],
      "execution_count": 184,
      "outputs": []
    },
    {
      "cell_type": "markdown",
      "metadata": {
        "id": "qkDVh1vB3BBL"
      },
      "source": [
        "Train model"
      ]
    },
    {
      "cell_type": "code",
      "metadata": {
        "colab": {
          "base_uri": "https://localhost:8080/",
          "height": 610
        },
        "id": "S2PmNmgysPLd",
        "outputId": "a5eb25f8-d8ec-4c51-9bff-6d192165223b"
      },
      "source": [
        "model, loss_train, loss_valid, acc_train, acc_valid = train_model(model, train_loader, test_loader, 1000, criterion, optimizer, 10)"
      ],
      "execution_count": 185,
      "outputs": [
        {
          "output_type": "stream",
          "name": "stdout",
          "text": [
            "epoch 1000/1000 train loss: 0.52461 train acc: 73.63105010986328 validation loss: 0.6771 validation acc: 61.09046173095703\n"
          ]
        },
        {
          "output_type": "display_data",
          "data": {
            "image/png": "[encoded data removed]",
            "text/plain": [
              "<Figure size 432x288 with 1 Axes>"
            ]
          },
          "metadata": {
            "needs_background": "light"
          }
        },
        {
          "output_type": "display_data",
          "data": {
            "image/png": "[encoded data removed]",
            "text/plain": [
              "<Figure size 432x288 with 1 Axes>"
            ]
          },
          "metadata": {
            "needs_background": "light"
          }
        }
      ]
    },
    {
      "cell_type": "markdown",
      "metadata": {
        "id": "vc4rfaQJl3Yj"
      },
      "source": [
        "# 5. Model Evaluation"
      ]
    },
    {
      "cell_type": "code",
      "metadata": {
        "id": "saG6lpBKl9Oz"
      },
      "source": [
        "def predict_model(model, X_test):\n",
        "    \n",
        "    model.eval()\n",
        "    \n",
        "    x = torch.tensor(X_test).float()\n",
        "    \n",
        "    x = x.to(device)\n",
        "            \n",
        "    out = model(x).to('cpu')\n",
        "    \n",
        "    pred = torch.max(out, 1)[1].numpy()\n",
        "    \n",
        "    return pred"
      ],
      "execution_count": 186,
      "outputs": []
    },
    {
      "cell_type": "code",
      "metadata": {
        "id": "bx_Wv7eMt1q0"
      },
      "source": [
        "y_pred = predict_model(model, X_test)"
      ],
      "execution_count": 187,
      "outputs": []
    },
    {
      "cell_type": "code",
      "metadata": {
        "colab": {
          "base_uri": "https://localhost:8080/"
        },
        "id": "Y8Hx148nt2NM",
        "outputId": "25d9ca3e-5708-4570-fb94-ae8047e68e52"
      },
      "source": [
        "from sklearn.metrics import classification_report\n",
        "\n",
        "print(classification_report(y_test, y_pred))"
      ],
      "execution_count": 188,
      "outputs": [
        {
          "output_type": "stream",
          "name": "stdout",
          "text": [
            "              precision    recall  f1-score   support\n",
            "\n",
            "           0       0.61      0.57      0.59       400\n",
            "           1       0.61      0.65      0.63       407\n",
            "\n",
            "    accuracy                           0.61       807\n",
            "   macro avg       0.61      0.61      0.61       807\n",
            "weighted avg       0.61      0.61      0.61       807\n",
            "\n"
          ]
        }
      ]
    },
    {
      "cell_type": "markdown",
      "metadata": {
        "id": "GCM9ohhWs0Mv"
      },
      "source": [
        "Unmount the drive"
      ]
    },
    {
      "cell_type": "code",
      "metadata": {
        "id": "NrVt74zhshLA"
      },
      "source": [
        "drive.flush_and_unmount()"
      ],
      "execution_count": null,
      "outputs": []
    },
    {
      "cell_type": "code",
      "metadata": {
        "id": "ZPTwcJGH4NX3"
      },
      "source": [
        ""
      ],
      "execution_count": null,
      "outputs": []
    }
  ]
}