{
 "cells": [
  {
   "cell_type": "code",
   "execution_count": null,
   "metadata": {
    "id": "Rtm-x-9PgCZb"
   },
   "outputs": [],
   "source": []
  },
  {
   "cell_type": "markdown",
   "metadata": {
    "id": "BQulPy5Jk5dl"
   },
   "source": [
    "# EEG Signal Processing using Pytorch Project on CP DSAI Course\n",
    "\n",
    "The project is to do classification on EEG signal using BCI Motor Imagery Dataset. "
   ]
  },
  {
   "cell_type": "code",
   "execution_count": 1,
   "metadata": {
    "colab": {
     "base_uri": "https://localhost:8080/"
    },
    "id": "tEoTae8fnQqi",
    "outputId": "080fbb74-077f-4e0c-f9e0-ab3d4ab70168"
   },
   "outputs": [
    {
     "name": "stdout",
     "output_type": "stream",
     "text": [
      "Requirement already satisfied: mne in c:\\users\\rukat\\anaconda3\\envs\\ml\\lib\\site-packages (0.24.0)\n",
      "Requirement already satisfied: scipy>=1.1.0 in c:\\users\\rukat\\anaconda3\\envs\\ml\\lib\\site-packages (from mne) (1.7.2)\n",
      "Requirement already satisfied: numpy>=1.15.4 in c:\\users\\rukat\\anaconda3\\envs\\ml\\lib\\site-packages (from mne) (1.21.4)\n"
     ]
    }
   ],
   "source": [
    "!pip install mne"
   ]
  },
  {
   "cell_type": "code",
   "execution_count": 1,
   "metadata": {
    "id": "OBAFhtVRmx-V"
   },
   "outputs": [],
   "source": [
    "# General packages\n",
    "import numpy as np\n",
    "import matplotlib.pyplot as plt\n",
    "import mne\n",
    "import os\n",
    "import sys\n",
    "from mne.datasets import eegbci\n",
    "import glob\n",
    "from IPython.display import clear_output\n",
    "import numpy as np\n",
    "\n",
    "# from google.colab import drive\n",
    "\n",
    "# Modeling and training packages\n",
    "import torch\n",
    "from torch import nn\n",
    "import torch.optim as optim\n",
    "\n",
    "# Data Preparation packages\n",
    "from sklearn.model_selection import train_test_split\n",
    "from torch.utils.data import TensorDataset\n",
    "from torch.utils.data import DataLoader\n",
    "from scipy import signal\n",
    "\n",
    "#Configurations\n",
    "SEED = 1234\n",
    "torch.manual_seed(SEED)\n",
    "torch.backends.cudnn.deterministic = True"
   ]
  },
  {
   "cell_type": "markdown",
   "metadata": {
    "id": "BNxSYLANliH0"
   },
   "source": [
    "# 1. Dataset Retrival"
   ]
  },
  {
   "cell_type": "code",
   "execution_count": 2,
   "metadata": {
    "colab": {
     "base_uri": "https://localhost:8080/"
    },
    "id": "Te7-8mLifj0h",
    "outputId": "f7cd970a-122e-4a88-de48-0200a372a400"
   },
   "outputs": [],
   "source": [
    "# from google.colab import drive\n",
    "# drive.mount('/content/drive')"
   ]
  },
  {
   "cell_type": "markdown",
   "metadata": {
    "id": "EuXo1ZHypQRp"
   },
   "source": [
    "Because the dataset was loaded to Google drive directory, mounting that directory"
   ]
  },
  {
   "cell_type": "markdown",
   "metadata": {
    "id": "mYSQq5yqpZfs"
   },
   "source": [
    "Define dataset path. The dataset path should be the path that contains **RECORDS** files and folders referring to each subject"
   ]
  },
  {
   "cell_type": "code",
   "execution_count": 2,
   "metadata": {
    "id": "Vqbd1NhSj75j"
   },
   "outputs": [],
   "source": [
    "dataset_path = 'D:/CourseWork/CPDSAI/files/'"
   ]
  },
  {
   "cell_type": "markdown",
   "metadata": {
    "id": "4MwzqjQBpcC9"
   },
   "source": [
    "Write the function to do read preprocess and any neccessary steps fot generating raw X and y"
   ]
  },
  {
   "cell_type": "code",
   "execution_count": 3,
   "metadata": {
    "id": "W6PM0f0AkPu4"
   },
   "outputs": [],
   "source": [
    "class motorImagery:\n",
    "    def __init__(self, path=None, subjects=[1], runs=[1]):\n",
    "        self.path = path\n",
    "        self.edf_filenames = self.get_filenames(path)\n",
    "        self.raw = self.load_eeg(subjects, runs)\n",
    "        \n",
    "    def get_filenames(self, path):\n",
    "        file = open(dataset_path+'RECORDS')\n",
    "        edf_filenames = file.readlines()\n",
    "        file.close()\n",
    "        edf_filenames = [fname.rstrip() for fname in edf_filenames]\n",
    "        return edf_filenames\n",
    "    \n",
    "    def load_eeg(self, subjects, runs):    #load -> standardize -> notch_filter -> bandpass filter -> return\n",
    "    \n",
    "        fno = self.get_fileIndices(subjects, runs)\n",
    "        print('Selected Runs: ', runs)\n",
    "        print('Selected Subjects: ', subjects)\n",
    "        print('Loading files at index:', fno)\n",
    "        \n",
    "        raw_eegs = []\n",
    "        for idx,i in enumerate(fno):\n",
    "            path_file = os.path.join(self.path, self.edf_filenames[i])\n",
    "            sys.stdout.write(f\"\\rLoading file #{idx+1}/{len(fno)}: {path_file}\")\n",
    "            raw = mne.io.read_raw_edf( path_file , preload=True, verbose='WARNING' )\n",
    "            raw_eegs.append(raw)\n",
    "\n",
    "        raw = mne.io.concatenate_raws(raw_eegs)     # Concatenate all EEGs together\n",
    "        eegbci.standardize(raw)                     # Standardize channel names\n",
    "        montage = mne.channels.make_standard_montage('standard_1005')\n",
    "        raw.set_montage(montage)\n",
    "\n",
    "        return raw                                  \n",
    "    \n",
    "    def get_fileIndices(self, subjects, runs):\n",
    "        fno = []\n",
    "        subjects = [s-1 for s in subjects]  # start from 0, 1, 2, ...\n",
    "        for subject in subjects:\n",
    "            for run in runs:\n",
    "                fno.append(subject*14+run-1)   # 14 runs per subject\n",
    "        return fno\n",
    "    \n",
    "    def apply_filter(self, freq):\n",
    "        # Remove power line noise atrifacts at 50 Hz <-- European data so 50Hz powerline freq\n",
    "        #self.raw.notch_filter(50)\n",
    "        # Remove higher frequencies as they are redundant for analysis.\n",
    "        low_freq, high_freq = freq\n",
    "        self.raw.filter(low_freq, high_freq, fir_design='firwin')\n",
    "        \n",
    "    def get_ica(self, n=16):\n",
    "        self.ica = mne.preprocessing.ICA(n_components=n, max_iter='auto', random_state=97)\n",
    "        self.ica.fit(self.raw)\n",
    "        self.raw.load_data()\n",
    "        self.ica.plot_sources(self.raw)\n",
    "        self.ica.plot_components()\n",
    "        \n",
    "    def exclude_ic(self, channels):\n",
    "        self.ica.exclude = channels\n",
    "        self.ica.apply(self.raw)\n",
    "\n",
    "    def get_events(self):\n",
    "        event_id = dict(T1=2, T2=3)        # Define the events we want to extract\n",
    "        events, event_id = mne.events_from_annotations(self.raw, event_id=event_id)\n",
    "        return events, event_id\n",
    "    \n",
    "    def get_epochs(self, events, event_id):\n",
    "        # We don't need it for now but lets include it as it is a part of the pipeline of eeg classification\n",
    "        picks = mne.pick_types(self.raw.info, eeg=True, exclude='bads')\n",
    "\n",
    "        # tmin and tmax are relative to the event onset time. They decide the time interval (relative to event onset) taken to \n",
    "        # form the epoch from eeg signal. \n",
    "        tmin = -1.  # A second before event cue \n",
    "        tmax = 5.   # Four seconds after cue. Most events are of 4.1 or 4.2 seconds long as described in annotations.\n",
    "\n",
    "        # Read epochs (only the events described in our event_id will be included for training)\n",
    "        # For future try to use baseline subtraction method \n",
    "        epochs = mne.Epochs(self.raw, events, event_id, tmin, tmax, proj=False, \n",
    "                            picks=picks, baseline=None, preload=True)\n",
    "\n",
    "        # Only eeg signals in time interval 1-2 sec will be used for training -> 1 sec after event cue to 2 sec after cue.\n",
    "        # This is to avoid the evoked potentials arising in brain in response to event cue.\n",
    "        epochs_train = epochs.copy().crop(tmin=-1., tmax=5.)\n",
    "        montage = mne.channels.make_standard_montage('standard_1005')\n",
    "        epochs_train.set_montage(montage)\n",
    "        \n",
    "        return epochs_train\n",
    "    \n",
    "    def downsample(self, epochs, factor):\n",
    "        return epochs.decimate(factor)\n",
    "        \n",
    "    def return_epochs(self, freq=(1, 35), dsamplingFactor=1, channel_selection=False, channels=None):\n",
    "        events, event_id = self.get_events()\n",
    "        self.epochs = self.get_epochs(events, event_id)\n",
    "        self.epochs = self.downsample(self.epochs, dsamplingFactor)\n",
    "        self.labels = self.epochs.events[:,-1] - 2        # Convert from 2,3 to 0,1 and assign to labels for training\n",
    "        if channel_selection:\n",
    "            if channels is None:\n",
    "                self.epochs = self.epochs.pick_channels(self.epochs.ch_names[:21])\n",
    "            else:\n",
    "                self.epochs = self.epochs.pick_channels(channels)\n",
    "        return self.epochs, self.labels\n",
    "    \n",
    "    def get_X_y(self, channel_selection=False, channels=None):\n",
    "        self.return_epochs(channel_selection=channel_selection, channels=channels)\n",
    "        return self.epochs.get_data(), self.labels"
   ]
  },
  {
   "cell_type": "markdown",
   "metadata": {
    "id": "LBkpyOZxpljp"
   },
   "source": [
    "To get X and y of Dataset, just simply implement the function"
   ]
  },
  {
   "cell_type": "code",
   "execution_count": 288,
   "metadata": {
    "colab": {
     "base_uri": "https://localhost:8080/"
    },
    "id": "NsprI3zMnaBO",
    "outputId": "bc8648a1-26ea-40cf-c450-432d505c0580"
   },
   "outputs": [
    {
     "name": "stdout",
     "output_type": "stream",
     "text": [
      "Selected Runs:  [3, 4, 7, 8, 11, 12]\n",
      "Selected Subjects:  [73, 62, 4, 71, 7]\n",
      "Loading files at index: [1010, 1011, 1014, 1015, 1018, 1019, 856, 857, 860, 861, 864, 865, 44, 45, 48, 49, 52, 53, 982, 983, 986, 987, 990, 991, 86, 87, 90, 91, 94, 95]\n",
      "Loading file #30/30: D:/CourseWork/CPDSAI/files/S007/S007R12.edfUsed Annotations descriptions: ['T1', 'T2']\n",
      "Not setting metadata\n",
      "Not setting metadata\n",
      "450 matching events found\n",
      "No baseline correction applied\n",
      "Loading data for 450 events and 961 original time points ...\n",
      "30 bad epochs dropped\n"
     ]
    },
    {
     "data": {
      "text/plain": [
       "(420, 21, 961)"
      ]
     },
     "execution_count": 288,
     "metadata": {},
     "output_type": "execute_result"
    }
   ],
   "source": [
    "# Define subject list and runs number\n",
    "# subjects = [i for i in range(1, 11)]\n",
    "# subjects = np.random.randint(1,109, 5)\n",
    "\n",
    "subjects= [73, 62, 4, 71, 7]\n",
    "# runs = [5,6, 9,10, 13,14]\n",
    "runs = [3,4, 7,8, 11,12]\n",
    "# runs = [3,7,11]\n",
    "\n",
    "freq_select = (0.05, 70)\n",
    "\n",
    "# initialize dataset\n",
    "eeg = motorImagery(dataset_path, subjects, runs)\n",
    "\n",
    "# do filtering frequency\n",
    "eeg.apply_filter(freq=freq_select)\n",
    "\n",
    "# gather X and y\n",
    "X, y = eeg.get_X_y(channel_selection=True)\n",
    "\n",
    "X.shape"
   ]
  },
  {
   "cell_type": "code",
   "execution_count": 263,
   "metadata": {
    "colab": {
     "base_uri": "https://localhost:8080/"
    },
    "id": "qw6pL5312FHH",
    "outputId": "5a343077-202c-43e6-b895-b50237857208"
   },
   "outputs": [],
   "source": [
    "# # runs = [5,6, 9,10, 13,14]\n",
    "# runs = [3,4, 7,8, 11,12]\n",
    "\n",
    "# freq_select = (0.05, 70)\n",
    "\n",
    "# # initialize dataset\n",
    "# eeg = motorImagery(dataset_path, subjects, runs)\n",
    "\n",
    "# # do filtering frequency\n",
    "# eeg.apply_filter(freq=freq_select)\n",
    "\n",
    "# # gather X and y\n",
    "# X2, y2 = eeg.get_X_y(channel_selection=False)\n",
    "\n",
    "# X2.shape"
   ]
  },
  {
   "cell_type": "code",
   "execution_count": 193,
   "metadata": {
    "id": "CWvOFjv921Xb"
   },
   "outputs": [],
   "source": [
    "# y2 = y2+2"
   ]
  },
  {
   "cell_type": "code",
   "execution_count": 194,
   "metadata": {
    "id": "D0qw3HW5247z"
   },
   "outputs": [],
   "source": [
    "# X = np.concatenate([X1, X2])\n",
    "# y = np.concatenate([y1, y2])"
   ]
  },
  {
   "cell_type": "code",
   "execution_count": 195,
   "metadata": {
    "colab": {
     "base_uri": "https://localhost:8080/"
    },
    "id": "qJu2mHZN3Rgm",
    "outputId": "c036c8b0-a142-4830-f65d-71d62c93eaef"
   },
   "outputs": [],
   "source": [
    "# X.shape"
   ]
  },
  {
   "cell_type": "code",
   "execution_count": 196,
   "metadata": {
    "colab": {
     "base_uri": "https://localhost:8080/"
    },
    "id": "xu7mNnYJ3SmP",
    "outputId": "85fef12e-22fe-4f06-bd33-efd6c09d19b6"
   },
   "outputs": [],
   "source": [
    "# y.shape"
   ]
  },
  {
   "cell_type": "code",
   "execution_count": 60,
   "metadata": {
    "colab": {
     "base_uri": "https://localhost:8080/"
    },
    "id": "9WBnBIBy3Tqu",
    "outputId": "c3f9a32a-5ba0-415a-9bb6-cf13ae981f1d"
   },
   "outputs": [],
   "source": [
    "# y"
   ]
  },
  {
   "cell_type": "code",
   "execution_count": null,
   "metadata": {},
   "outputs": [],
   "source": []
  },
  {
   "cell_type": "markdown",
   "metadata": {
    "id": "nBOtjQF8lwBj"
   },
   "source": [
    "# 2. Data Preprocessing\n",
    "\n",
    "This is to prepare CNN data form (if implementing RNN, deactivate this cell)"
   ]
  },
  {
   "cell_type": "code",
   "execution_count": 289,
   "metadata": {
    "colab": {
     "base_uri": "https://localhost:8080/"
    },
    "id": "4pTrB04QnraM",
    "outputId": "9ff0ed55-7469-4886-dda7-022c101fde91"
   },
   "outputs": [
    {
     "data": {
      "text/plain": [
       "(420, 1, 21, 961)"
      ]
     },
     "execution_count": 289,
     "metadata": {},
     "output_type": "execute_result"
    }
   ],
   "source": [
    "X = X[:, np.newaxis,:,:]\n",
    "X.shape"
   ]
  },
  {
   "cell_type": "code",
   "execution_count": 290,
   "metadata": {
    "colab": {
     "base_uri": "https://localhost:8080/",
     "height": 295
    },
    "id": "rCywvtsphO8r",
    "outputId": "8260c9b5-fccc-4851-a0f9-211e068011ad"
   },
   "outputs": [
    {
     "data": {
      "image/png": "[encoded data removed]",
      "text/plain": [
       "<Figure size 432x288 with 1 Axes>"
      ]
     },
     "metadata": {
      "needs_background": "light"
     },
     "output_type": "display_data"
    }
   ],
   "source": [
    "plt.plot(X[0, 0, 1,:])\n",
    "plt.title('Example eeg signal')\n",
    "plt.xlabel('time')\n",
    "plt.ylabel('amplitude ($\\mu V$)' )\n",
    "plt.show()"
   ]
  },
  {
   "cell_type": "markdown",
   "metadata": {
    "id": "ArDgBb2NoYo_"
   },
   "source": [
    "Due to small value of EEG signal regarding to X. the values will be scaled up. Actually, the signal values are the micro volt ($10^{-6}$) unit converted to volt. So that, the value should be rescaled to micro volt again to a scale of a unit of +1.0 or -1.0."
   ]
  },
  {
   "cell_type": "code",
   "execution_count": 291,
   "metadata": {
    "colab": {
     "base_uri": "https://localhost:8080/"
    },
    "id": "PXutFx3inyrm",
    "outputId": "c2284c7a-1aa2-470b-e62a-cf9cff2a6d06"
   },
   "outputs": [
    {
     "data": {
      "text/plain": [
       "array([[[ -9.61501826, -18.5258701 , -25.71676924, ...,  25.82450948,\n",
       "          18.74663268,  22.93878841],\n",
       "        [-14.79489807, -18.92563973, -22.89842409, ...,  39.20895931,\n",
       "          33.30792024,  33.32504653],\n",
       "        [ -1.98396103,  -4.96640882,  -8.07066099, ...,  38.4661162 ,\n",
       "          36.6061316 ,  36.55881692],\n",
       "        ...,\n",
       "        [ -0.23939714,  -3.78497856,  -9.3282746 , ...,  15.71967982,\n",
       "          16.42932197,   8.7307248 ],\n",
       "        [ -2.54152187,  -5.95979818, -12.5982    , ...,  30.16034587,\n",
       "          28.82862262,  22.14322294],\n",
       "        [-11.09940658, -11.72418461, -17.17073874, ...,  26.90879114,\n",
       "          25.59742723,  17.85376261]]])"
      ]
     },
     "execution_count": 291,
     "metadata": {},
     "output_type": "execute_result"
    }
   ],
   "source": [
    "X = X * 1e6\n",
    "X[0]"
   ]
  },
  {
   "cell_type": "markdown",
   "metadata": {
    "id": "hJiHBZBjoljS"
   },
   "source": [
    "Next function is to prepare X and y as numpy array into pytorch DataLoader"
   ]
  },
  {
   "cell_type": "code",
   "execution_count": 292,
   "metadata": {
    "id": "lfM3oKmrn7Rh"
   },
   "outputs": [],
   "source": [
    "def Xy_dataloader(X_numpy, y_numpy, batch_size=32):\n",
    "    \n",
    "    X_tensor = torch.tensor(X_numpy).float()\n",
    "    y_tensor = torch.tensor(y_numpy).long()\n",
    "    \n",
    "    dataset = TensorDataset(X_tensor, y_tensor)\n",
    "\n",
    "    loader = DataLoader(dataset, batch_size=batch_size,shuffle=True)\n",
    "    \n",
    "    return loader"
   ]
  },
  {
   "cell_type": "markdown",
   "metadata": {
    "id": "xBtWmbP7ouhH"
   },
   "source": [
    "Before Loading data into DataLoader, split X and y into train set and test (validation) set."
   ]
  },
  {
   "cell_type": "code",
   "execution_count": 293,
   "metadata": {
    "colab": {
     "base_uri": "https://localhost:8080/"
    },
    "id": "6hXudvrkn-fa",
    "outputId": "5359fc8c-b834-466c-cc2e-177c4535af36"
   },
   "outputs": [
    {
     "name": "stdout",
     "output_type": "stream",
     "text": [
      "X_train shape:  (315, 1, 21, 961)\n",
      "X_test shape:  (105, 1, 21, 961)\n",
      "y_train shape:  (315,)\n",
      "y_test shape:  (105,)\n"
     ]
    }
   ],
   "source": [
    "X_train, X_test, y_train, y_test = train_test_split(X, y, test_size=0.25, stratify=y)\n",
    "\n",
    "print('X_train shape: ',X_train.shape)\n",
    "print('X_test shape: ',X_test.shape)\n",
    "print('y_train shape: ',y_train.shape)\n",
    "print('y_test shape: ',y_test.shape)"
   ]
  },
  {
   "cell_type": "markdown",
   "metadata": {
    "id": "zvhoCEjXo3aD"
   },
   "source": [
    "Load training set and test set for DataLoader"
   ]
  },
  {
   "cell_type": "code",
   "execution_count": 294,
   "metadata": {
    "id": "giSLfNt4oAnR"
   },
   "outputs": [],
   "source": [
    "train_loader = Xy_dataloader(X_train, y_train, 16)\n",
    "test_loader = Xy_dataloader(X_test, y_test, 16)"
   ]
  },
  {
   "cell_type": "markdown",
   "metadata": {
    "id": "OQR7A_Gjlv6z"
   },
   "source": [
    "# 3. Modeling"
   ]
  },
  {
   "cell_type": "markdown",
   "metadata": {
    "id": "BW1s7iXIqXHO"
   },
   "source": [
    "Modeling section will make spatio-temporal CNN based. "
   ]
  },
  {
   "cell_type": "code",
   "execution_count": 295,
   "metadata": {
    "id": "MxzJORWxl2fR"
   },
   "outputs": [],
   "source": [
    "class CNNTempoSpatio(nn.Module):\n",
    "    \n",
    "    def __init__(self, input_chan,n_chan, output_dim):\n",
    "        super().__init__()\n",
    "        \n",
    "        self.conv_tempo1 = nn.Sequential(\n",
    "            nn.Conv2d(input_chan, 40, kernel_size=(1,30), stride=1, padding='same'),\n",
    "            nn.ReLU(),\n",
    "            nn.Dropout2d(0.5)\n",
    "        )\n",
    "\n",
    "        self.conv_spatio = nn.Sequential(\n",
    "            nn.Conv2d(40, 40, kernel_size=(n_chan, 1), stride=1, padding='valid'),\n",
    "            nn.ReLU(),\n",
    "            nn.Dropout2d(0.5)\n",
    "        )\n",
    "            \n",
    "        self.avg_pool = nn.AvgPool2d(kernel_size=(1, 15), stride=(1, 1))\n",
    "\n",
    "        self.fc = nn.Linear(40*947, 80)\n",
    "\n",
    "        self.fc_out = nn.Linear(80, output_dim)\n",
    "\n",
    "        \n",
    "    def forward(self, x):\n",
    "        \n",
    "        x = self.conv_tempo1(x)\n",
    "        # print(x.shape)\n",
    "  \n",
    "\n",
    "        x = self.conv_spatio(x)\n",
    "        # print(x.shape)\n",
    "\n",
    "        x = self.avg_pool(x)\n",
    "        # print(x.shape)\n",
    "\n",
    "        x = x.reshape(x.size(0), -1)\n",
    "\n",
    "        x = self.fc(x)\n",
    "\n",
    "        x = self.fc_out(x)\n",
    "\n",
    "        return x"
   ]
  },
  {
   "cell_type": "markdown",
   "metadata": {
    "id": "pr9zoxSzl3rD"
   },
   "source": [
    "# 4. Training Model"
   ]
  },
  {
   "cell_type": "markdown",
   "metadata": {
    "id": "X8yI4aTTq8BD"
   },
   "source": [
    "Before constructing model instance, check wheter GPU is work or not"
   ]
  },
  {
   "cell_type": "code",
   "execution_count": 296,
   "metadata": {
    "colab": {
     "base_uri": "https://localhost:8080/"
    },
    "id": "n95kfa8Jq8SL",
    "outputId": "7361fbd1-7e8d-4fd1-db3b-8cac4ff4c368"
   },
   "outputs": [
    {
     "name": "stdout",
     "output_type": "stream",
     "text": [
      "pytorch is using:  cuda\n"
     ]
    }
   ],
   "source": [
    "device = torch.device('cuda' if torch.cuda.is_available() else 'cpu')\n",
    "print('pytorch is using: ', device)"
   ]
  },
  {
   "cell_type": "markdown",
   "metadata": {
    "id": "JrKmoa2CsRbe"
   },
   "source": [
    "Create Model instance"
   ]
  },
  {
   "cell_type": "code",
   "execution_count": 297,
   "metadata": {
    "id": "8jE5TQVGr9ki"
   },
   "outputs": [],
   "source": [
    "model = CNNTempoSpatio(1,21, 2).to(device)"
   ]
  },
  {
   "cell_type": "markdown",
   "metadata": {
    "id": "q8zgip404xkd"
   },
   "source": [
    "Define Optimizer and Loss function"
   ]
  },
  {
   "cell_type": "code",
   "execution_count": 298,
   "metadata": {
    "id": "EN55K1MusUhT"
   },
   "outputs": [],
   "source": [
    "optimizer = optim.Adam(model.parameters(), lr=1e-4)\n",
    "criterion = nn.CrossEntropyLoss()"
   ]
  },
  {
   "cell_type": "markdown",
   "metadata": {
    "id": "usOAbzsR41WT"
   },
   "source": [
    "Define Xavier initialization which helps init weight better to prevent model training from gradient vanishing or exploding"
   ]
  },
  {
   "cell_type": "code",
   "execution_count": 299,
   "metadata": {
    "colab": {
     "base_uri": "https://localhost:8080/"
    },
    "id": "qv4i_fGCsbaM",
    "outputId": "1ddfd1f7-3885-43d6-93f2-63e6d70599f9"
   },
   "outputs": [
    {
     "data": {
      "text/plain": [
       "CNNTempoSpatio(\n",
       "  (conv_tempo1): Sequential(\n",
       "    (0): Conv2d(1, 40, kernel_size=(1, 30), stride=(1, 1), padding=same)\n",
       "    (1): ReLU()\n",
       "    (2): Dropout2d(p=0.5, inplace=False)\n",
       "  )\n",
       "  (conv_spatio): Sequential(\n",
       "    (0): Conv2d(40, 40, kernel_size=(21, 1), stride=(1, 1), padding=valid)\n",
       "    (1): ReLU()\n",
       "    (2): Dropout2d(p=0.5, inplace=False)\n",
       "  )\n",
       "  (avg_pool): AvgPool2d(kernel_size=(1, 15), stride=(1, 1), padding=0)\n",
       "  (fc): Linear(in_features=37880, out_features=80, bias=True)\n",
       "  (fc_out): Linear(in_features=80, out_features=2, bias=True)\n",
       ")"
      ]
     },
     "execution_count": 299,
     "metadata": {},
     "output_type": "execute_result"
    }
   ],
   "source": [
    "#explicitly initialize weights for better learning\n",
    "def initialize_weights(m):\n",
    "    if isinstance(m, nn.Linear):\n",
    "        nn.init.xavier_normal_(m.weight)\n",
    "        nn.init.zeros_(m.bias)\n",
    "    elif isinstance(m, nn.RNN):\n",
    "        for name, param in m.named_parameters():\n",
    "            if 'bias' in name:\n",
    "                nn.init.zeros_(param)\n",
    "            elif 'weight' in name:\n",
    "                nn.init.orthogonal_(param) #<---here\n",
    "                \n",
    "model.apply(initialize_weights)"
   ]
  },
  {
   "cell_type": "markdown",
   "metadata": {
    "id": "OdIU5isP5Ckt"
   },
   "source": [
    "Lets define the training function with validation set"
   ]
  },
  {
   "cell_type": "code",
   "execution_count": 300,
   "metadata": {
    "id": "QE1NY-jRr9nA"
   },
   "outputs": [],
   "source": [
    "def train_model(model, train_dataloader, valid_dataloader, \n",
    "                epochs, criterion, optimizer, print_epoch=1000):\n",
    "    \n",
    "    loss_train = []\n",
    "    loss_valid = []\n",
    "    acc_train = []\n",
    "    acc_valid = []\n",
    "    \n",
    "    for i in range(1, epochs+1):\n",
    "        \n",
    "        # ===================TRAIN ======================\n",
    "        model.train()\n",
    "        \n",
    "        epoch_loss = 0\n",
    "        correct = 0\n",
    "        \n",
    "        for x, y in train_dataloader:\n",
    "            \n",
    "            x = x.to(device)\n",
    "            y = y.to(device)\n",
    "            \n",
    "            out = model(x)\n",
    "            \n",
    "            loss = criterion(out, y)\n",
    "            \n",
    "            _,pred = torch.max(out, 1)\n",
    "            \n",
    "            correct += (pred == y).to('cpu').float().sum()\n",
    "            \n",
    "            epoch_loss += loss.item()\n",
    "            \n",
    "            #backprop\n",
    "            optimizer.zero_grad()\n",
    "            loss.backward()\n",
    "\n",
    "#             clipping_value = 0.9 # arbitrary value of your choosing\n",
    "#             torch.nn.utils.clip_grad_norm(model.parameters(), clipping_value)\n",
    "            optimizer.step()\n",
    "        \n",
    "        acc_train.append(100 * correct / len(train_dataloader.dataset))\n",
    "        loss_train.append(epoch_loss/len(train_dataloader))\n",
    "        # loss_train.append(epoch_loss)\n",
    "        \n",
    "        # ===================VALIDATION =================\n",
    "        model.eval()\n",
    "    \n",
    "        epoch_loss = 0\n",
    "        correct = 0\n",
    "        \n",
    "        for x, y in valid_dataloader:\n",
    "            \n",
    "            x = x.to(device)\n",
    "            y = y.to(device)\n",
    "            \n",
    "            out = model(x)\n",
    "            \n",
    "            loss = criterion(out, y)\n",
    "            \n",
    "            _,pred = torch.max(out, 1)\n",
    "            \n",
    "            correct += (pred == y).to('cpu').float().sum()\n",
    "            \n",
    "            epoch_loss += loss.item()\n",
    "        \n",
    "        acc_valid.append(100 * correct / len(valid_dataloader.dataset))\n",
    "        loss_valid.append(epoch_loss/len(valid_dataloader))\n",
    "        # loss_valid.append(epoch_loss)\n",
    "        \n",
    "        # ================= PRINT ===========================\n",
    "        if i % print_epoch == 0 :\n",
    "            clear_output(wait=True)\n",
    "            print(f'epoch {i}/{epochs} train loss: {np.round(loss_train[-1],5)} train acc: {np.round(acc_train[-1],5)} validation loss: {np.round(loss_valid[-1],5)} validation acc: {np.round(acc_valid[-1],5)}')\n",
    "            plt.plot(loss_train, label='train')\n",
    "            plt.plot(loss_valid, label='test')\n",
    "            plt.title('Loss during Training')\n",
    "            plt.xlabel('epoch')\n",
    "            plt.ylabel('loss')\n",
    "            plt.legend()\n",
    "            plt.show()\n",
    "\n",
    "            plt.plot(acc_train, label='train')\n",
    "            plt.plot(acc_valid, label='test')\n",
    "            plt.title('Accuracy during Training')\n",
    "            plt.xlabel('epoch')\n",
    "            plt.ylabel('accuracy')\n",
    "            plt.legend()\n",
    "            plt.show()    \n",
    "            \n",
    "    return model, loss_train, loss_valid, acc_train, acc_valid\n",
    "            "
   ]
  },
  {
   "cell_type": "markdown",
   "metadata": {
    "id": "qkDVh1vB3BBL"
   },
   "source": [
    "Train model"
   ]
  },
  {
   "cell_type": "code",
   "execution_count": 301,
   "metadata": {
    "colab": {
     "base_uri": "https://localhost:8080/",
     "height": 322
    },
    "id": "S2PmNmgysPLd",
    "outputId": "e300c459-9392-4b6c-c588-e75b35bcbf3e"
   },
   "outputs": [
    {
     "name": "stdout",
     "output_type": "stream",
     "text": [
      "epoch 100/100 train loss: 0.19918 train acc: 91.74603271484375 validation loss: 0.33445 validation acc: 80.95237731933594\n"
     ]
    },
    {
     "data": {
      "image/png": "[encoded data removed]",
      "text/plain": [
       "<Figure size 432x288 with 1 Axes>"
      ]
     },
     "metadata": {
      "needs_background": "light"
     },
     "output_type": "display_data"
    },
    {
     "data": {
      "image/png": "[encoded data removed]",
      "text/plain": [
       "<Figure size 432x288 with 1 Axes>"
      ]
     },
     "metadata": {
      "needs_background": "light"
     },
     "output_type": "display_data"
    }
   ],
   "source": [
    "model, loss_train, loss_valid, acc_train, acc_valid = train_model(model, train_loader, test_loader, 100, criterion, optimizer, 1)"
   ]
  },
  {
   "cell_type": "markdown",
   "metadata": {
    "id": "vc4rfaQJl3Yj"
   },
   "source": [
    "# 5. Model Evaluation"
   ]
  },
  {
   "cell_type": "code",
   "execution_count": 302,
   "metadata": {
    "id": "saG6lpBKl9Oz"
   },
   "outputs": [],
   "source": [
    "def predict_model(model, X_test):\n",
    "    \n",
    "    model.eval()\n",
    "    \n",
    "    x = torch.tensor(X_test).float()\n",
    "    \n",
    "    x = x.to(device)\n",
    "            \n",
    "    out = model(x).to('cpu')\n",
    "    \n",
    "    pred = torch.max(out, 1)[1].numpy()\n",
    "    \n",
    "    return pred"
   ]
  },
  {
   "cell_type": "code",
   "execution_count": 303,
   "metadata": {
    "colab": {
     "base_uri": "https://localhost:8080/",
     "height": 310
    },
    "id": "bx_Wv7eMt1q0",
    "outputId": "06be7e99-f9a6-42ba-ff0d-eb80fee117ca"
   },
   "outputs": [],
   "source": [
    "y_pred = predict_model(model, X_test)"
   ]
  },
  {
   "cell_type": "code",
   "execution_count": 304,
   "metadata": {
    "colab": {
     "base_uri": "https://localhost:8080/"
    },
    "id": "Y8Hx148nt2NM",
    "outputId": "25d9ca3e-5708-4570-fb94-ae8047e68e52"
   },
   "outputs": [
    {
     "name": "stdout",
     "output_type": "stream",
     "text": [
      "              precision    recall  f1-score   support\n",
      "\n",
      "           0       0.88      0.71      0.79        52\n",
      "           1       0.76      0.91      0.83        53\n",
      "\n",
      "    accuracy                           0.81       105\n",
      "   macro avg       0.82      0.81      0.81       105\n",
      "weighted avg       0.82      0.81      0.81       105\n",
      "\n"
     ]
    }
   ],
   "source": [
    "from sklearn.metrics import classification_report\n",
    "\n",
    "print(classification_report(y_test, y_pred))"
   ]
  },
  {
   "cell_type": "markdown",
   "metadata": {
    "id": "GCM9ohhWs0Mv"
   },
   "source": [
    "Unmount the drive"
   ]
  },
  {
   "cell_type": "code",
   "execution_count": null,
   "metadata": {
    "id": "NrVt74zhshLA"
   },
   "outputs": [],
   "source": [
    "drive.flush_and_unmount()"
   ]
  },
  {
   "cell_type": "code",
   "execution_count": null,
   "metadata": {
    "id": "ZPTwcJGH4NX3"
   },
   "outputs": [],
   "source": []
  }
 ],
 "metadata": {
  "accelerator": "GPU",
  "colab": {
   "collapsed_sections": [],
   "name": "CPDSAI_project_Dose2018_paper.ipynb",
   "provenance": []
  },
  "kernelspec": {
   "display_name": "Python 3 (ipykernel)",
   "language": "python",
   "name": "python3"
  },
  "language_info": {
   "codemirror_mode": {
    "name": "ipython",
    "version": 3
   },
   "file_extension": ".py",
   "mimetype": "text/x-python",
   "name": "python",
   "nbconvert_exporter": "python",
   "pygments_lexer": "ipython3",
   "version": "3.9.7"
  }
 },
 "nbformat": 4,
 "nbformat_minor": 4
}
