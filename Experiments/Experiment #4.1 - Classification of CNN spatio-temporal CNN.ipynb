{
  "nbformat": 4,
  "nbformat_minor": 0,
  "metadata": {
    "accelerator": "GPU",
    "colab": {
      "name": "CPDSAI_project_ex2.ipynb",
      "provenance": [],
      "collapsed_sections": []
    },
    "kernelspec": {
      "display_name": "Python 3",
      "name": "python3"
    },
    "language_info": {
      "name": "python"
    }
  },
  "cells": [
    {
      "cell_type": "code",
      "metadata": {
        "id": "Rtm-x-9PgCZb"
      },
      "source": [
        ""
      ],
      "execution_count": null,
      "outputs": []
    },
    {
      "cell_type": "markdown",
      "metadata": {
        "id": "BQulPy5Jk5dl"
      },
      "source": [
        "# EEG Signal Processing using Pytorch Project on CP DSAI Course\n",
        "\n",
        "The project is to do classification on EEG signal using BCI Motor Imagery Dataset. "
      ]
    },
    {
      "cell_type": "code",
      "metadata": {
        "colab": {
          "base_uri": "https://localhost:8080/"
        },
        "id": "tEoTae8fnQqi",
        "outputId": "29d24b46-e9a8-482a-f576-feca840e105a"
      },
      "source": [
        "!pip install mne"
      ],
      "execution_count": null,
      "outputs": [
        {
          "output_type": "stream",
          "name": "stdout",
          "text": [
            "Collecting mne\n",
            "  Downloading mne-0.24.0-py3-none-any.whl (7.4 MB)\n",
            "\u001b[K     |████████████████████████████████| 7.4 MB 4.4 MB/s \n",
            "\u001b[?25hRequirement already satisfied: scipy>=1.1.0 in /usr/local/lib/python3.7/dist-packages (from mne) (1.4.1)\n",
            "Requirement already satisfied: numpy>=1.15.4 in /usr/local/lib/python3.7/dist-packages (from mne) (1.19.5)\n",
            "Installing collected packages: mne\n",
            "Successfully installed mne-0.24.0\n"
          ]
        }
      ]
    },
    {
      "cell_type": "code",
      "metadata": {
        "id": "OBAFhtVRmx-V"
      },
      "source": [
        "# General packages\n",
        "import numpy as np\n",
        "import matplotlib.pyplot as plt\n",
        "import mne\n",
        "import os\n",
        "import sys\n",
        "from mne.datasets import eegbci\n",
        "import glob\n",
        "from IPython.display import clear_output\n",
        "import numpy as np\n",
        "\n",
        "from google.colab import drive\n",
        "\n",
        "# Modeling and training packages\n",
        "import torch\n",
        "from torch import nn\n",
        "import torch.optim as optim\n",
        "\n",
        "# Data Preparation packages\n",
        "from sklearn.model_selection import train_test_split\n",
        "from torch.utils.data import TensorDataset\n",
        "from torch.utils.data import DataLoader\n",
        "from scipy import signal\n",
        "\n",
        "#Configurations\n",
        "SEED = 1234\n",
        "torch.manual_seed(SEED)\n",
        "torch.backends.cudnn.deterministic = True"
      ],
      "execution_count": null,
      "outputs": []
    },
    {
      "cell_type": "markdown",
      "metadata": {
        "id": "BNxSYLANliH0"
      },
      "source": [
        "# 1. Dataset Retrival"
      ]
    },
    {
      "cell_type": "code",
      "metadata": {
        "colab": {
          "base_uri": "https://localhost:8080/"
        },
        "id": "Te7-8mLifj0h",
        "outputId": "f7cd970a-122e-4a88-de48-0200a372a400"
      },
      "source": [
        "from google.colab import drive\n",
        "drive.mount('/content/drive')"
      ],
      "execution_count": null,
      "outputs": [
        {
          "metadata": {
            "tags": null
          },
          "name": "stdout",
          "output_type": "stream",
          "text": [
            "Mounted at /content/drive\n"
          ]
        }
      ]
    },
    {
      "cell_type": "markdown",
      "metadata": {
        "id": "EuXo1ZHypQRp"
      },
      "source": [
        "Because the dataset was loaded to Google drive directory, mounting that directory"
      ]
    },
    {
      "cell_type": "markdown",
      "metadata": {
        "id": "mYSQq5yqpZfs"
      },
      "source": [
        "Define dataset path. The dataset path should be the path that contains **RECORDS** files and folders referring to each subject"
      ]
    },
    {
      "cell_type": "code",
      "metadata": {
        "id": "Vqbd1NhSj75j"
      },
      "source": [
        "dataset_path = '/content/drive/MyDrive/CourseWork Resource/CPDSAI/project/files/'"
      ],
      "execution_count": null,
      "outputs": []
    },
    {
      "cell_type": "markdown",
      "metadata": {
        "id": "4MwzqjQBpcC9"
      },
      "source": [
        "Write the function to do read preprocess and any neccessary steps fot generating raw X and y"
      ]
    },
    {
      "cell_type": "code",
      "metadata": {
        "id": "W6PM0f0AkPu4"
      },
      "source": [
        "class motorImagery:\n",
        "    def __init__(self, path=None, subjects=[1], runs=[1]):\n",
        "        self.path = path\n",
        "        self.edf_filenames = self.get_filenames(path)\n",
        "        self.raw = self.load_eeg(subjects, runs)\n",
        "        \n",
        "    def get_filenames(self, path):\n",
        "        file = open(dataset_path+'RECORDS')\n",
        "        edf_filenames = file.readlines()\n",
        "        file.close()\n",
        "        edf_filenames = [fname.rstrip() for fname in edf_filenames]\n",
        "        return edf_filenames\n",
        "    \n",
        "    def load_eeg(self, subjects, runs):    #load -> standardize -> notch_filter -> bandpass filter -> return\n",
        "    \n",
        "        fno = self.get_fileIndices(subjects, runs)\n",
        "        print('Selected Runs: ', runs)\n",
        "        print('Selected Subjects: ', subjects)\n",
        "        print('Loading files at index:', fno)\n",
        "        \n",
        "        raw_eegs = []\n",
        "        for idx,i in enumerate(fno):\n",
        "            path_file = os.path.join(self.path, self.edf_filenames[i])\n",
        "            sys.stdout.write(f\"\\rLoading file #{idx+1}/{len(fno)}: {path_file}\")\n",
        "            raw = mne.io.read_raw_edf( path_file , preload=True, verbose='WARNING' )\n",
        "            raw_eegs.append(raw)\n",
        "\n",
        "        raw = mne.io.concatenate_raws(raw_eegs)     # Concatenate all EEGs together\n",
        "        eegbci.standardize(raw)                     # Standardize channel names\n",
        "        montage = mne.channels.make_standard_montage('standard_1005')\n",
        "        raw.set_montage(montage)\n",
        "\n",
        "        return raw                                  \n",
        "    \n",
        "    def get_fileIndices(self, subjects, runs):\n",
        "        fno = []\n",
        "        subjects = [s-1 for s in subjects]  # start from 0, 1, 2, ...\n",
        "        for subject in subjects:\n",
        "            for run in runs:\n",
        "                fno.append(subject*14+run-1)   # 14 runs per subject\n",
        "        return fno\n",
        "    \n",
        "    def apply_filter(self, freq):\n",
        "        # Remove power line noise atrifacts at 50 Hz <-- European data so 50Hz powerline freq\n",
        "        #self.raw.notch_filter(50)\n",
        "        # Remove higher frequencies as they are redundant for analysis.\n",
        "        low_freq, high_freq = freq\n",
        "        self.raw.filter(low_freq, high_freq, fir_design='firwin')\n",
        "        \n",
        "    def get_ica(self, n=16):\n",
        "        self.ica = mne.preprocessing.ICA(n_components=n, max_iter='auto', random_state=97)\n",
        "        self.ica.fit(self.raw)\n",
        "        self.raw.load_data()\n",
        "        self.ica.plot_sources(self.raw)\n",
        "        self.ica.plot_components()\n",
        "        \n",
        "    def exclude_ic(self, channels):\n",
        "        self.ica.exclude = channels\n",
        "        self.ica.apply(self.raw)\n",
        "\n",
        "    def get_events(self):\n",
        "        event_id = dict(T1=2, T2=3)        # Define the events we want to extract\n",
        "        events, event_id = mne.events_from_annotations(self.raw, event_id=event_id)\n",
        "        return events, event_id\n",
        "    \n",
        "    def get_epochs(self, events, event_id):\n",
        "        # We don't need it for now but lets include it as it is a part of the pipeline of eeg classification\n",
        "        picks = mne.pick_types(self.raw.info, eeg=True, exclude='bads')\n",
        "\n",
        "        # tmin and tmax are relative to the event onset time. They decide the time interval (relative to event onset) taken to \n",
        "        # form the epoch from eeg signal. \n",
        "        tmin = -1  # A second before event cue \n",
        "        tmax = 4   # Four seconds after cue. Most events are of 4.1 or 4.2 seconds long as described in annotations.\n",
        "\n",
        "        # Read epochs (only the events described in our event_id will be included for training)\n",
        "        # For future try to use baseline subtraction method \n",
        "        epochs = mne.Epochs(self.raw, events, event_id, tmin, tmax, proj=False, \n",
        "                            picks=picks, baseline=None, preload=True)\n",
        "\n",
        "        # Only eeg signals in time interval 1-2 sec will be used for training -> 1 sec after event cue to 2 sec after cue.\n",
        "        # This is to avoid the evoked potentials arising in brain in response to event cue.\n",
        "        epochs_train = epochs.copy().crop(tmin=0., tmax=4.)\n",
        "        montage = mne.channels.make_standard_montage('standard_1005')\n",
        "        epochs_train.set_montage(montage)\n",
        "        \n",
        "        return epochs_train\n",
        "    \n",
        "    def downsample(self, epochs, factor):\n",
        "        return epochs.decimate(factor)\n",
        "        \n",
        "    def return_epochs(self, freq=(1, 35), dsamplingFactor=1, channel_selection=False, channels=None):\n",
        "        events, event_id = self.get_events()\n",
        "        self.epochs = self.get_epochs(events, event_id)\n",
        "        self.epochs = self.downsample(self.epochs, dsamplingFactor)\n",
        "        self.labels = self.epochs.events[:,-1] - 2        # Convert from 2,3 to 0,1 and assign to labels for training\n",
        "        if channel_selection:\n",
        "            if channels is None:\n",
        "                self.epochs = self.epochs.pick_channels(self.epochs.ch_names[:21])\n",
        "            else:\n",
        "                self.epochs = self.epochs.pick_channels(channels)\n",
        "        return self.epochs, self.labels\n",
        "    \n",
        "    def get_X_y(self, channel_selection=False, channels=None):\n",
        "        self.return_epochs(channel_selection=channel_selection, channels=channels)\n",
        "        return self.epochs.get_data(), self.labels"
      ],
      "execution_count": null,
      "outputs": []
    },
    {
      "cell_type": "markdown",
      "metadata": {
        "id": "LBkpyOZxpljp"
      },
      "source": [
        "To get X and y of Dataset, just simply implement the function"
      ]
    },
    {
      "cell_type": "code",
      "metadata": {
        "id": "oLkfRzyRIbUL"
      },
      "source": [
        ""
      ],
      "execution_count": null,
      "outputs": []
    },
    {
      "cell_type": "code",
      "metadata": {
        "colab": {
          "base_uri": "https://localhost:8080/"
        },
        "id": "NsprI3zMnaBO",
        "outputId": "8b9fd009-2e8f-4424-c4a5-aa7df8556e7b"
      },
      "source": [
        "# Define subject list and runs number\n",
        "subjects = [i for i in range(1, 11)]\n",
        "# subjects = []]\n",
        "\n",
        "# subjects= [1]\n",
        "# runs = [5,6, 9,10, 13,14]\n",
        "runs = [3,4, 7,8, 11,12]\n",
        "\n",
        "freq_select = (0.05, 35)\n",
        "\n",
        "# initialize dataset\n",
        "eeg = motorImagery(dataset_path, subjects, runs)\n",
        "\n",
        "# do filtering frequency\n",
        "eeg.apply_filter(freq=freq_select)\n",
        "\n",
        "# gather X and y\n",
        "X, y = eeg.get_X_y(channel_selection=True)\n",
        "\n",
        "X.shape"
      ],
      "execution_count": null,
      "outputs": [
        {
          "output_type": "stream",
          "name": "stdout",
          "text": [
            "Selected Runs:  [3, 4, 7, 8, 11, 12]\n",
            "Selected Subjects:  [1, 2, 3, 4, 5, 6, 7, 8, 9, 10]\n",
            "Loading files at index: [2, 3, 6, 7, 10, 11, 16, 17, 20, 21, 24, 25, 30, 31, 34, 35, 38, 39, 44, 45, 48, 49, 52, 53, 58, 59, 62, 63, 66, 67, 72, 73, 76, 77, 80, 81, 86, 87, 90, 91, 94, 95, 100, 101, 104, 105, 108, 109, 114, 115, 118, 119, 122, 123, 128, 129, 132, 133, 136, 137]\n",
            "Loading file #60/60: /content/drive/MyDrive/CourseWork Resource/CPDSAI/project/files/S010/S010R12.edfUsed Annotations descriptions: ['T1', 'T2']\n",
            "Not setting metadata\n",
            "Not setting metadata\n",
            "900 matching events found\n",
            "No baseline correction applied\n",
            "Loading data for 900 events and 801 original time points ...\n",
            "0 bad epochs dropped\n"
          ]
        },
        {
          "output_type": "execute_result",
          "data": {
            "text/plain": [
              "(900, 21, 641)"
            ]
          },
          "metadata": {},
          "execution_count": 109
        }
      ]
    },
    {
      "cell_type": "markdown",
      "metadata": {
        "id": "nBOtjQF8lwBj"
      },
      "source": [
        "# 2. Data Preprocessing\n",
        "\n",
        "This is to prepare CNN data form (if implementing RNN, deactivate this cell)"
      ]
    },
    {
      "cell_type": "code",
      "metadata": {
        "colab": {
          "base_uri": "https://localhost:8080/"
        },
        "id": "4pTrB04QnraM",
        "outputId": "60c30831-d5f3-428d-b683-dd4e4527ad85"
      },
      "source": [
        "X = X[:, np.newaxis,:,:]\n",
        "X.shape"
      ],
      "execution_count": null,
      "outputs": [
        {
          "output_type": "execute_result",
          "data": {
            "text/plain": [
              "(900, 1, 21, 641)"
            ]
          },
          "metadata": {},
          "execution_count": 110
        }
      ]
    },
    {
      "cell_type": "code",
      "metadata": {
        "colab": {
          "base_uri": "https://localhost:8080/",
          "height": 295
        },
        "id": "rCywvtsphO8r",
        "outputId": "ddb2110a-a9bb-4ca9-bdc3-f5b5599ab0f4"
      },
      "source": [
        "plt.plot(X[0, 0, 1,:])\n",
        "plt.title('Example eeg signal')\n",
        "plt.xlabel('time')\n",
        "plt.ylabel('amplitude ($\\mu V$)' )\n",
        "plt.show()"
      ],
      "execution_count": null,
      "outputs": [
        {
          "output_type": "display_data",
          "data": {
            "image/png": "[encoded data removed]",
            "text/plain": [
              "<Figure size 432x288 with 1 Axes>"
            ]
          },
          "metadata": {
            "needs_background": "light"
          }
        }
      ]
    },
    {
      "cell_type": "markdown",
      "metadata": {
        "id": "ArDgBb2NoYo_"
      },
      "source": [
        "Due to small value of EEG signal regarding to X. the values will be scaled up. Actually, the signal values are the micro volt ($10^{-6}$) unit converted to volt. So that, the value should be rescaled to micro volt again to a scale of a unit of +1.0 or -1.0."
      ]
    },
    {
      "cell_type": "code",
      "metadata": {
        "colab": {
          "base_uri": "https://localhost:8080/"
        },
        "id": "PXutFx3inyrm",
        "outputId": "2fda0950-1275-4adb-c6f3-cf1179f824d7"
      },
      "source": [
        "X = X * 1e6\n",
        "X[0]"
      ],
      "execution_count": null,
      "outputs": [
        {
          "output_type": "execute_result",
          "data": {
            "text/plain": [
              "array([[[ 19.38349538,   4.14441267,  -4.4116834 , ..., -29.98886252,\n",
              "         -32.44081055, -35.78884119],\n",
              "        [  9.75198583, -14.29685263, -21.08580977, ..., -49.70049942,\n",
              "         -46.78733403, -50.0516023 ],\n",
              "        [ 11.02501119, -14.13519489, -23.64971797, ..., -47.07360987,\n",
              "         -41.42462053, -42.19713188],\n",
              "        ...,\n",
              "        [ 21.8764033 ,   5.76974334, -10.18594646, ..., -26.0043885 ,\n",
              "         -31.52801817, -33.90526144],\n",
              "        [ 10.39369434,  -1.84999502, -16.85236625, ...,   3.81784795,\n",
              "          -4.84695848,  -7.67911078],\n",
              "        [ -7.08081241, -13.53146738, -21.00705735, ...,   6.71166798,\n",
              "           0.68288735,   1.23483417]]])"
            ]
          },
          "metadata": {},
          "execution_count": 111
        }
      ]
    },
    {
      "cell_type": "markdown",
      "metadata": {
        "id": "hJiHBZBjoljS"
      },
      "source": [
        "Next function is to prepare X and y as numpy array into pytorch DataLoader"
      ]
    },
    {
      "cell_type": "code",
      "metadata": {
        "id": "lfM3oKmrn7Rh"
      },
      "source": [
        "def Xy_dataloader(X_numpy, y_numpy, batch_size=32):\n",
        "    \n",
        "    X_tensor = torch.tensor(X_numpy).float()\n",
        "    y_tensor = torch.tensor(y_numpy).long()\n",
        "    \n",
        "    dataset = TensorDataset(X_tensor, y_tensor)\n",
        "\n",
        "    loader = DataLoader(dataset, batch_size=batch_size,shuffle=True)\n",
        "    \n",
        "    return loader"
      ],
      "execution_count": null,
      "outputs": []
    },
    {
      "cell_type": "markdown",
      "metadata": {
        "id": "xBtWmbP7ouhH"
      },
      "source": [
        "Before Loading data into DataLoader, split X and y into train set and test (validation) set."
      ]
    },
    {
      "cell_type": "code",
      "metadata": {
        "id": "6hXudvrkn-fa",
        "colab": {
          "base_uri": "https://localhost:8080/"
        },
        "outputId": "b38aff38-f38b-4168-a673-bfc4f7ed2ad8"
      },
      "source": [
        "X_train, X_test, y_train, y_test = train_test_split(X, y, test_size=0.2, stratify=y)\n",
        "\n",
        "print('X_train shape: ',X_train.shape)\n",
        "print('X_test shape: ',X_test.shape)\n",
        "print('y_train shape: ',y_train.shape)\n",
        "print('y_test shape: ',y_test.shape)"
      ],
      "execution_count": null,
      "outputs": [
        {
          "output_type": "stream",
          "name": "stdout",
          "text": [
            "X_train shape:  (720, 1, 21, 641)\n",
            "X_test shape:  (180, 1, 21, 641)\n",
            "y_train shape:  (720,)\n",
            "y_test shape:  (180,)\n"
          ]
        }
      ]
    },
    {
      "cell_type": "markdown",
      "metadata": {
        "id": "zvhoCEjXo3aD"
      },
      "source": [
        "Load training set and test set for DataLoader"
      ]
    },
    {
      "cell_type": "code",
      "metadata": {
        "id": "giSLfNt4oAnR"
      },
      "source": [
        "train_loader = Xy_dataloader(X_train, y_train, 32)\n",
        "test_loader = Xy_dataloader(X_test, y_test, 32)"
      ],
      "execution_count": null,
      "outputs": []
    },
    {
      "cell_type": "markdown",
      "metadata": {
        "id": "OQR7A_Gjlv6z"
      },
      "source": [
        "# 3. Modeling"
      ]
    },
    {
      "cell_type": "markdown",
      "metadata": {
        "id": "BW1s7iXIqXHO"
      },
      "source": [
        "Modeling section will make spatio-temporal CNN based. "
      ]
    },
    {
      "cell_type": "code",
      "metadata": {
        "id": "MxzJORWxl2fR"
      },
      "source": [
        "class CNNTempoSpatio(nn.Module):\n",
        "    \n",
        "    def __init__(self, input_chan, output_dim):\n",
        "        super().__init__()\n",
        "        \n",
        "        self.conv_tempo1 = nn.Sequential(\n",
        "            nn.Conv2d(input_chan, 8, kernel_size=(1,11), stride=1, padding='valid'),\n",
        "            nn.LayerNorm((8, 21, 631)),\n",
        "            nn.ReLU(),\n",
        "            nn.MaxPool2d(kernel_size=(1, 3), stride=1),\n",
        "            nn.Dropout2d(0.5)\n",
        "        )\n",
        "\n",
        "        self.conv_tempo2 = nn.Sequential(\n",
        "            nn.Conv2d(8, 16, kernel_size=(1,11), stride=1, padding='valid'),\n",
        "            nn.LayerNorm((16, 21, 619)),\n",
        "            nn.ReLU(),\n",
        "            nn.MaxPool2d(kernel_size=(1, 3), stride=1),\n",
        "            nn.Dropout2d(0.5)\n",
        "        )\n",
        "\n",
        "        self.conv_spatio = nn.Sequential(\n",
        "            nn.Conv2d(16, 32, kernel_size=(21, 1), stride=1, padding='valid'),\n",
        "            nn.LayerNorm((32, 1, 617)),\n",
        "            nn.ReLU(),\n",
        "            nn.AvgPool2d(kernel_size=(1, 15), stride=5),\n",
        "            nn.Dropout2d(0.5)\n",
        "        )\n",
        "\n",
        "        self.fc = nn.Linear(32*121, output_dim)\n",
        "\n",
        "        \n",
        "    def forward(self, x):\n",
        "        \n",
        "        x = self.conv_tempo1(x)\n",
        "\n",
        "        x = self.conv_tempo2(x)\n",
        "\n",
        "        x = self.conv_spatio(x)\n",
        "\n",
        "        # x = self.avg_pool(x)\n",
        "\n",
        "        # print(x.shape)\n",
        "\n",
        "        x = x.reshape(x.size(0), -1)\n",
        "        x = self.fc(x)\n",
        "\n",
        "        return x"
      ],
      "execution_count": null,
      "outputs": []
    },
    {
      "cell_type": "markdown",
      "metadata": {
        "id": "pr9zoxSzl3rD"
      },
      "source": [
        "# 4. Training Model"
      ]
    },
    {
      "cell_type": "markdown",
      "metadata": {
        "id": "X8yI4aTTq8BD"
      },
      "source": [
        "Before constructing model instance, check wheter GPU is work or not"
      ]
    },
    {
      "cell_type": "code",
      "metadata": {
        "colab": {
          "base_uri": "https://localhost:8080/"
        },
        "id": "n95kfa8Jq8SL",
        "outputId": "4bb018a6-5862-4a9c-8b93-28c090a3472f"
      },
      "source": [
        "device = torch.device('cuda' if torch.cuda.is_available() else 'cpu')\n",
        "print('pytorch is using: ', device)"
      ],
      "execution_count": null,
      "outputs": [
        {
          "output_type": "stream",
          "name": "stdout",
          "text": [
            "pytorch is using:  cuda\n"
          ]
        }
      ]
    },
    {
      "cell_type": "markdown",
      "metadata": {
        "id": "JrKmoa2CsRbe"
      },
      "source": [
        "Create Model instance"
      ]
    },
    {
      "cell_type": "code",
      "metadata": {
        "id": "8jE5TQVGr9ki"
      },
      "source": [
        "model = CNNTempoSpatio(1, 2).to(device)"
      ],
      "execution_count": null,
      "outputs": []
    },
    {
      "cell_type": "markdown",
      "metadata": {
        "id": "q8zgip404xkd"
      },
      "source": [
        "Define Optimizer and Loss function"
      ]
    },
    {
      "cell_type": "code",
      "metadata": {
        "id": "EN55K1MusUhT"
      },
      "source": [
        "optimizer = optim.Adam(model.parameters(), lr=1e-4)\n",
        "criterion = nn.CrossEntropyLoss()"
      ],
      "execution_count": null,
      "outputs": []
    },
    {
      "cell_type": "markdown",
      "metadata": {
        "id": "usOAbzsR41WT"
      },
      "source": [
        "Define Xavier initialization which helps init weight better to prevent model training from gradient vanishing or exploding"
      ]
    },
    {
      "cell_type": "code",
      "metadata": {
        "colab": {
          "base_uri": "https://localhost:8080/"
        },
        "id": "qv4i_fGCsbaM",
        "outputId": "9eb77c67-87ed-4504-cdc3-8ec5f5eb0e57"
      },
      "source": [
        "#explicitly initialize weights for better learning\n",
        "def initialize_weights(m):\n",
        "    if isinstance(m, nn.Linear):\n",
        "        nn.init.xavier_normal_(m.weight)\n",
        "        nn.init.zeros_(m.bias)\n",
        "    elif isinstance(m, nn.RNN):\n",
        "        for name, param in m.named_parameters():\n",
        "            if 'bias' in name:\n",
        "                nn.init.zeros_(param)\n",
        "            elif 'weight' in name:\n",
        "                nn.init.orthogonal_(param) #<---here\n",
        "                \n",
        "model.apply(initialize_weights)"
      ],
      "execution_count": null,
      "outputs": [
        {
          "output_type": "execute_result",
          "data": {
            "text/plain": [
              "CNNTempoSpatio(\n",
              "  (conv_tempo1): Sequential(\n",
              "    (0): Conv2d(1, 8, kernel_size=(1, 11), stride=(1, 1), padding=valid)\n",
              "    (1): LayerNorm((8, 21, 631), eps=1e-05, elementwise_affine=True)\n",
              "    (2): ReLU()\n",
              "    (3): MaxPool2d(kernel_size=(1, 3), stride=1, padding=0, dilation=1, ceil_mode=False)\n",
              "    (4): Dropout2d(p=0.5, inplace=False)\n",
              "  )\n",
              "  (conv_tempo2): Sequential(\n",
              "    (0): Conv2d(8, 16, kernel_size=(1, 11), stride=(1, 1), padding=valid)\n",
              "    (1): LayerNorm((16, 21, 619), eps=1e-05, elementwise_affine=True)\n",
              "    (2): ReLU()\n",
              "    (3): MaxPool2d(kernel_size=(1, 3), stride=1, padding=0, dilation=1, ceil_mode=False)\n",
              "    (4): Dropout2d(p=0.5, inplace=False)\n",
              "  )\n",
              "  (conv_spatio): Sequential(\n",
              "    (0): Conv2d(16, 32, kernel_size=(21, 1), stride=(1, 1), padding=valid)\n",
              "    (1): LayerNorm((32, 1, 617), eps=1e-05, elementwise_affine=True)\n",
              "    (2): ReLU()\n",
              "    (3): AvgPool2d(kernel_size=(1, 15), stride=5, padding=0)\n",
              "    (4): Dropout2d(p=0.5, inplace=False)\n",
              "  )\n",
              "  (fc): Linear(in_features=3872, out_features=2, bias=True)\n",
              ")"
            ]
          },
          "metadata": {},
          "execution_count": 161
        }
      ]
    },
    {
      "cell_type": "markdown",
      "metadata": {
        "id": "OdIU5isP5Ckt"
      },
      "source": [
        "Lets define the training function with validation set"
      ]
    },
    {
      "cell_type": "code",
      "metadata": {
        "id": "QE1NY-jRr9nA"
      },
      "source": [
        "def train_model(model, train_dataloader, valid_dataloader, \n",
        "                epochs, criterion, optimizer, print_epoch=1000):\n",
        "    \n",
        "    loss_train = []\n",
        "    loss_valid = []\n",
        "    acc_train = []\n",
        "    acc_valid = []\n",
        "    \n",
        "    for i in range(1, epochs+1):\n",
        "        \n",
        "        # ===================TRAIN ======================\n",
        "        model.train()\n",
        "        \n",
        "        epoch_loss = 0\n",
        "        correct = 0\n",
        "        \n",
        "        for x, y in train_dataloader:\n",
        "            \n",
        "            x = x.to(device)\n",
        "            y = y.to(device)\n",
        "            \n",
        "            out = model(x)\n",
        "            \n",
        "            loss = criterion(out, y)\n",
        "            \n",
        "            _,pred = torch.max(out, 1)\n",
        "            \n",
        "            correct += (pred == y).to('cpu').float().sum()\n",
        "            \n",
        "            epoch_loss += loss.item()\n",
        "            \n",
        "            #backprop\n",
        "            optimizer.zero_grad()\n",
        "            loss.backward()\n",
        "\n",
        "            clipping_value = 0.9 # arbitrary value of your choosing\n",
        "            torch.nn.utils.clip_grad_norm(model.parameters(), clipping_value)\n",
        "            optimizer.step()\n",
        "        \n",
        "        acc_train.append(100 * correct / len(train_dataloader.dataset))\n",
        "        loss_train.append(epoch_loss/len(train_dataloader))\n",
        "        # loss_train.append(epoch_loss)\n",
        "        \n",
        "        # ===================VALIDATION =================\n",
        "        model.eval()\n",
        "    \n",
        "        epoch_loss = 0\n",
        "        correct = 0\n",
        "        \n",
        "        for x, y in valid_dataloader:\n",
        "            \n",
        "            x = x.to(device)\n",
        "            y = y.to(device)\n",
        "            \n",
        "            out = model(x)\n",
        "            \n",
        "            loss = criterion(out, y)\n",
        "            \n",
        "            _,pred = torch.max(out, 1)\n",
        "            \n",
        "            correct += (pred == y).to('cpu').float().sum()\n",
        "            \n",
        "            epoch_loss += loss.item()\n",
        "        \n",
        "        acc_valid.append(100 * correct / len(valid_dataloader.dataset))\n",
        "        loss_valid.append(epoch_loss/len(valid_dataloader))\n",
        "        # loss_valid.append(epoch_loss)\n",
        "        \n",
        "        # ================= PRINT ===========================\n",
        "        if i % print_epoch == 0 :\n",
        "            clear_output(wait=True)\n",
        "            print(f'epoch {i}/{epochs} train loss: {np.round(loss_train[-1],5)} train acc: {np.round(acc_train[-1],5)} validation loss: {np.round(loss_valid[-1],5)} validation acc: {np.round(acc_valid[-1],5)}')\n",
        "            plt.plot(loss_train, label='train')\n",
        "            plt.plot(loss_valid, label='test')\n",
        "            plt.title('Loss during Training')\n",
        "            plt.xlabel('epoch')\n",
        "            plt.ylabel('loss')\n",
        "            plt.legend()\n",
        "            plt.show()\n",
        "\n",
        "            plt.plot(acc_train, label='train')\n",
        "            plt.plot(acc_valid, label='test')\n",
        "            plt.title('Accuracy during Training')\n",
        "            plt.xlabel('epoch')\n",
        "            plt.ylabel('accuracy')\n",
        "            plt.legend()\n",
        "            plt.show()    \n",
        "            \n",
        "    return model, loss_train, loss_valid, acc_train, acc_valid\n",
        "            "
      ],
      "execution_count": null,
      "outputs": []
    },
    {
      "cell_type": "markdown",
      "metadata": {
        "id": "qkDVh1vB3BBL"
      },
      "source": [
        "Train model"
      ]
    },
    {
      "cell_type": "code",
      "metadata": {
        "colab": {
          "base_uri": "https://localhost:8080/",
          "height": 590
        },
        "id": "S2PmNmgysPLd",
        "outputId": "e3381b39-3fe4-4a43-9368-9e71bc860f58"
      },
      "source": [
        "model, loss_train, loss_valid, acc_train, acc_valid = train_model(model, train_loader, test_loader, 200, criterion, optimizer, 1)"
      ],
      "execution_count": null,
      "outputs": [
        {
          "output_type": "stream",
          "name": "stdout",
          "text": [
            "epoch 200/200 train loss: 0.14378 train acc: 94.8611068725586 validation loss: 0.45651 validation acc: 81.11112213134766\n"
          ]
        },
        {
          "output_type": "display_data",
          "data": {
            "image/png": "[encoded data removed]",
            "text/plain": [
              "<Figure size 432x288 with 1 Axes>"
            ]
          },
          "metadata": {
            "needs_background": "light"
          }
        },
        {
          "output_type": "display_data",
          "data": {
            "image/png": "[encoded data removed]",
            "text/plain": [
              "<Figure size 432x288 with 1 Axes>"
            ]
          },
          "metadata": {
            "needs_background": "light"
          }
        }
      ]
    },
    {
      "cell_type": "markdown",
      "metadata": {
        "id": "vc4rfaQJl3Yj"
      },
      "source": [
        "# 5. Model Evaluation"
      ]
    },
    {
      "cell_type": "code",
      "metadata": {
        "id": "saG6lpBKl9Oz"
      },
      "source": [
        "def predict_model(model, X_test):\n",
        "    \n",
        "    model.eval()\n",
        "    \n",
        "    x = torch.tensor(X_test).float()\n",
        "    \n",
        "    x = x.to(device)\n",
        "            \n",
        "    out = model(x).to('cpu')\n",
        "    \n",
        "    pred = torch.max(out, 1)[1].numpy()\n",
        "    \n",
        "    return pred"
      ],
      "execution_count": null,
      "outputs": []
    },
    {
      "cell_type": "code",
      "metadata": {
        "id": "bx_Wv7eMt1q0"
      },
      "source": [
        "y_pred = predict_model(model, X_test)"
      ],
      "execution_count": null,
      "outputs": []
    },
    {
      "cell_type": "code",
      "metadata": {
        "colab": {
          "base_uri": "https://localhost:8080/"
        },
        "id": "Y8Hx148nt2NM",
        "outputId": "25d9ca3e-5708-4570-fb94-ae8047e68e52"
      },
      "source": [
        "from sklearn.metrics import classification_report\n",
        "\n",
        "print(classification_report(y_test, y_pred))"
      ],
      "execution_count": null,
      "outputs": [
        {
          "name": "stdout",
          "output_type": "stream",
          "text": [
            "              precision    recall  f1-score   support\n",
            "\n",
            "           0       0.61      0.57      0.59       400\n",
            "           1       0.61      0.65      0.63       407\n",
            "\n",
            "    accuracy                           0.61       807\n",
            "   macro avg       0.61      0.61      0.61       807\n",
            "weighted avg       0.61      0.61      0.61       807\n",
            "\n"
          ]
        }
      ]
    },
    {
      "cell_type": "markdown",
      "metadata": {
        "id": "GCM9ohhWs0Mv"
      },
      "source": [
        "Unmount the drive"
      ]
    },
    {
      "cell_type": "code",
      "metadata": {
        "id": "NrVt74zhshLA"
      },
      "source": [
        "drive.flush_and_unmount()"
      ],
      "execution_count": null,
      "outputs": []
    },
    {
      "cell_type": "code",
      "metadata": {
        "id": "ZPTwcJGH4NX3"
      },
      "source": [
        ""
      ],
      "execution_count": null,
      "outputs": []
    }
  ]
}