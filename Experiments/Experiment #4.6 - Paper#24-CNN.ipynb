{
 "cells": [
  {
   "cell_type": "markdown",
   "id": "72e7eb74",
   "metadata": {},
   "source": [
    "# An  end-to-end  deep  learning  approach  to  MI-EEG  signal  classification  for  BCIs"
   ]
  },
  {
   "cell_type": "markdown",
   "id": "db4830bb",
   "metadata": {},
   "source": [
    "## Dataset and Model"
   ]
  },
  {
   "cell_type": "markdown",
   "id": "c7fe5a94",
   "metadata": {},
   "source": [
    "1. Dataset is \"EEG Motor Movement/Imagery Dataset\" https://www.physionet.org/content/eegmmidb/1.0.0/\n",
    "2. Model was built following this paper's https://www.sciencedirect.com/science/article/abs/pii/S0957417418305359"
   ]
  },
  {
   "cell_type": "markdown",
   "id": "b03bd40f",
   "metadata": {},
   "source": [
    "## 1. Load Dataset"
   ]
  },
  {
   "cell_type": "code",
   "execution_count": 1,
   "id": "99a6ca7a",
   "metadata": {},
   "outputs": [],
   "source": [
    "# General packages\n",
    "import numpy as np\n",
    "import matplotlib.pyplot as plt\n",
    "import mne\n",
    "import os\n",
    "import sys\n",
    "from mne.datasets import eegbci\n",
    "import glob\n",
    "from IPython.display import clear_output\n",
    "import numpy as np\n",
    "\n",
    "# from google.colab import drive\n",
    "\n",
    "# Modeling and training packages\n",
    "import torch\n",
    "from torch import nn\n",
    "import torch.optim as optim\n",
    "\n",
    "# Data Preparation packages\n",
    "from sklearn.model_selection import train_test_split\n",
    "from torch.utils.data import TensorDataset\n",
    "from torch.utils.data import DataLoader\n",
    "from scipy import signal\n",
    "\n",
    "#Configurations\n",
    "SEED = 1234\n",
    "torch.manual_seed(SEED)\n",
    "torch.backends.cudnn.deterministic = True"
   ]
  },
  {
   "cell_type": "code",
   "execution_count": 2,
   "id": "e2c6ab8c",
   "metadata": {},
   "outputs": [],
   "source": [
    "dataset_path = '../BCI-Project/models/data/'"
   ]
  },
  {
   "cell_type": "markdown",
   "id": "636d3cdc",
   "metadata": {},
   "source": [
    "Write the function to do read preprocess and any neccessary steps fot generating raw X and y"
   ]
  },
  {
   "cell_type": "code",
   "execution_count": 566,
   "id": "2a84ccd2",
   "metadata": {},
   "outputs": [],
   "source": [
    "class motorImagery:\n",
    "    def __init__(self, path=None, subjects=[1], runs=[1]):\n",
    "        self.path = path\n",
    "        self.edf_filenames = self.get_filenames(path)\n",
    "        self.raw = self.load_eeg(subjects, runs)\n",
    "        \n",
    "    def get_filenames(self, path):\n",
    "        file = open(dataset_path+'RECORDS')\n",
    "        edf_filenames = file.readlines()\n",
    "        file.close()\n",
    "        edf_filenames = [fname.rstrip() for fname in edf_filenames]\n",
    "        return edf_filenames\n",
    "    \n",
    "    def load_eeg(self, subjects, runs):    #load -> standardize -> notch_filter -> bandpass filter -> return\n",
    "    \n",
    "        fno = self.get_fileIndices(subjects, runs)\n",
    "        print('Loading files at index:', fno)\n",
    "        \n",
    "        raw_eegs = []\n",
    "        for idx,i in enumerate(fno):\n",
    "            path_file = os.path.join(self.path, self.edf_filenames[i])\n",
    "            sys.stdout.write(f\"\\rLoading file #{idx+1}/{len(fno)}: {path_file}\")\n",
    "            raw = mne.io.read_raw_edf( path_file , preload=True, verbose='WARNING' )\n",
    "            raw_eegs.append(raw)\n",
    "\n",
    "        raw = mne.io.concatenate_raws(raw_eegs)     # Concatenate all EEGs together\n",
    "        eegbci.standardize(raw)                     # Standardize channel names\n",
    "        montage = mne.channels.make_standard_montage('standard_1005')\n",
    "        raw.set_montage(montage)\n",
    "        return raw                                  \n",
    "    \n",
    "    def get_fileIndices(self, subjects, runs):\n",
    "        fno = []\n",
    "        subjects = [s-1 for s in subjects]  # start from 0, 1, 2, ...\n",
    "        for subject in subjects:\n",
    "            for run in runs:\n",
    "                fno.append(subject*14+run-1)   # 14 runs per subject\n",
    "        return fno\n",
    "    \n",
    "    def apply_filter(self, freq):\n",
    "        # Remove power line noise atrifacts at 50 Hz <-- European data so 50Hz powerline freq\n",
    "        #self.raw.notch_filter(50)\n",
    "        # Remove higher frequencies as they are redundant for analysis.\n",
    "        low_freq, high_freq = freq\n",
    "        self.raw.filter(low_freq, high_freq, fir_design='firwin')\n",
    "        \n",
    "    def get_ica(self, n=16):\n",
    "        self.ica = mne.preprocessing.ICA(n_components=n, max_iter='auto', random_state=97)\n",
    "        self.ica.fit(self.raw)\n",
    "        self.raw.load_data()\n",
    "        self.ica.plot_sources(self.raw)\n",
    "        self.ica.plot_components()\n",
    "        \n",
    "    def exclude_ic(self, channels):\n",
    "        self.ica.exclude = channels\n",
    "        self.ica.apply(self.raw)\n",
    "\n",
    "    def get_events(self):\n",
    "        event_id = dict(T1=2, T2=3)        # Define the events we want to extract\n",
    "        events, event_id = mne.events_from_annotations(self.raw, event_id=event_id)\n",
    "        return events, event_id\n",
    "    \n",
    "    def get_epochs(self, events, event_id):\n",
    "        # We don't need it for now but lets include it as it is a part of the pipeline of eeg classification\n",
    "        picks = mne.pick_types(self.raw.info, eeg=True, exclude='bads')\n",
    "\n",
    "        # tmin and tmax are relative to the event onset time. They decide the time interval (relative to event onset) taken to \n",
    "        # form the epoch from eeg signal. \n",
    "        tmin = -1  # A second before event cue \n",
    "        tmax = 4   # Four seconds after cue. Most events are of 4.1 or 4.2 seconds long as described in annotations.\n",
    "\n",
    "        # Read epochs (only the events described in our event_id will be included for training)\n",
    "        # For future try to use baseline subtraction method \n",
    "        epochs = mne.Epochs(self.raw, events, event_id, tmin, tmax, proj=False, \n",
    "                            picks=picks, baseline=None, preload=True)\n",
    "\n",
    "        # Only eeg signals in time interval 1-2 sec will be used for training -> 1 sec after event cue to 2 sec after cue.\n",
    "        # This is to avoid the evoked potentials arising in brain in response to event cue.\n",
    "        epochs_train = epochs.copy().crop(tmin=0., tmax=4.)\n",
    "        montage = mne.channels.make_standard_montage('standard_1005')\n",
    "        epochs_train.set_montage(montage)\n",
    "        \n",
    "        return epochs_train\n",
    "    \n",
    "    def downsample(self, epochs, factor):\n",
    "        return epochs.decimate(factor)\n",
    "        \n",
    "    def return_epochs(self, freq=(1, 35), dsamplingFactor=1, channel_selection=False, channels=None):\n",
    "        events, event_id = self.get_events()\n",
    "        self.epochs = self.get_epochs(events, event_id)\n",
    "        self.epochs = self.downsample(self.epochs, dsamplingFactor)\n",
    "        self.labels = self.epochs.events[:,-1] - 2        # Convert from 2,3 to 0,1 and assign to labels for training\n",
    "        if channel_selection:\n",
    "            if channels is None:\n",
    "                self.epochs = self.epochs.pick_channels(self.epochs.ch_names[:21])\n",
    "            else:\n",
    "                self.epochs = self.epochs.pick_channels(channels)\n",
    "        return self.epochs, self.labels\n",
    "    \n",
    "    def get_X_y(self, channel_selection=False, channels=None):\n",
    "        self.return_epochs(channel_selection=channel_selection, channels=channels)\n",
    "        return self.epochs.get_data(), self.labels"
   ]
  },
  {
   "cell_type": "markdown",
   "id": "26b3f3a0",
   "metadata": {},
   "source": [
    "To get X and y of Dataset, just simply implement the function"
   ]
  },
  {
   "cell_type": "code",
   "execution_count": 567,
   "id": "3e4b74e6",
   "metadata": {},
   "outputs": [
    {
     "name": "stdout",
     "output_type": "stream",
     "text": [
      "Loading files at index: [5, 9, 13, 19, 23, 27, 33, 37, 41, 47, 51, 55, 61, 65, 69, 75, 79, 83, 89, 93, 97, 103, 107, 111, 117, 121, 125, 131, 135, 139, 145, 149, 153, 159, 163, 167, 173, 177, 181, 187, 191, 195, 201, 205, 209, 215, 219, 223, 229, 233, 237, 243, 247, 251, 257, 261, 265, 271, 275, 279, 285, 289, 293, 299, 303, 307, 313, 317, 321, 327, 331, 335, 341, 345, 349, 355, 359, 363, 369, 373, 377, 383, 387, 391, 397, 401, 405, 411, 415, 419, 425, 429, 433, 439, 443, 447, 453, 457, 461, 467, 471, 475, 481, 485, 489, 495, 499, 503, 509, 513, 517, 523, 527, 531, 537, 541, 545, 551, 555, 559, 565, 569, 573, 579, 583, 587, 593, 597, 601, 607, 611, 615, 621, 625, 629, 635, 639, 643, 649, 653, 657, 663, 667, 671, 677, 681, 685, 691, 695, 699, 705, 709, 713, 719, 723, 727, 733, 737, 741, 747, 751, 755, 761, 765, 769, 775, 779, 783, 789, 793, 797, 803, 807, 811, 817, 821, 825, 831, 835, 839]\n",
      "Loading file #180/180: ../BCI-Project/models/data/S060/S060R14.edfUsed Annotations descriptions: ['T1', 'T2']\n",
      "Not setting metadata\n",
      "Not setting metadata\n",
      "2700 matching events found\n",
      "No baseline correction applied\n",
      "Loading data for 2700 events and 801 original time points ...\n",
      "7 bad epochs dropped\n"
     ]
    },
    {
     "data": {
      "text/plain": [
       "(2693, 2, 641)"
      ]
     },
     "execution_count": 567,
     "metadata": {},
     "output_type": "execute_result"
    }
   ],
   "source": [
    "# Define subject list and runs number\n",
    "subjects = [i for i in range(1, 61)]\n",
    "runs = [6,10,14]\n",
    "# freq_select = (1,40)\n",
    "\n",
    "# initialize dataset\n",
    "eeg = motorImagery(dataset_path, subjects, runs)\n",
    "\n",
    "# do filtering frequency\n",
    "# eeg.apply_filter(freq=freq_select)\n",
    "\n",
    "# gather X and y\n",
    "X, y = eeg.get_X_y(channel_selection=True, channels=['FC1','FC2'])\n",
    "\n",
    "X.shape"
   ]
  },
  {
   "cell_type": "markdown",
   "id": "8eb20ec6",
   "metadata": {},
   "source": [
    "## 2. Data Preprocessing"
   ]
  },
  {
   "cell_type": "code",
   "execution_count": 568,
   "id": "5eef17d6",
   "metadata": {},
   "outputs": [],
   "source": [
    "# ## This is to prepare CNN data form (if implementing RNN, deactivate this cell)\n",
    "X = X[:, np.newaxis,:,:]"
   ]
  },
  {
   "cell_type": "code",
   "execution_count": 569,
   "id": "ab8fb388",
   "metadata": {},
   "outputs": [
    {
     "name": "stdout",
     "output_type": "stream",
     "text": [
      "X shape: (2693, 1, 2, 641)\n",
      "Y uniques: [0 1]\n"
     ]
    }
   ],
   "source": [
    "print(\"X shape:\", X.shape)\n",
    "print(\"Y uniques:\", np.unique(y))"
   ]
  },
  {
   "cell_type": "code",
   "execution_count": 570,
   "id": "9397e84c",
   "metadata": {},
   "outputs": [
    {
     "data": {
      "text/plain": [
       "(2693, 1, 2, 641)"
      ]
     },
     "execution_count": 570,
     "metadata": {},
     "output_type": "execute_result"
    }
   ],
   "source": [
    "X.shape"
   ]
  },
  {
   "cell_type": "code",
   "execution_count": 571,
   "id": "d78b9720",
   "metadata": {},
   "outputs": [
    {
     "data": {
      "text/plain": [
       "(2693, 1, 2, 641)"
      ]
     },
     "execution_count": 571,
     "metadata": {},
     "output_type": "execute_result"
    }
   ],
   "source": [
    "X_norm = (X-X.mean(axis=0))/X.std(axis=0)\n",
    "X_norm.shape\n",
    "\n",
    "# xin = X_norm.transpose(0, 2, 1)\n",
    "# xin = xin[:, np.newaxis, :, :]\n",
    "# xin = torch.FloatTensor(xin)\n",
    "# y = torch.LongTensor(y)\n",
    "# xin.shape"
   ]
  },
  {
   "cell_type": "code",
   "execution_count": 572,
   "id": "263f27b8",
   "metadata": {},
   "outputs": [],
   "source": [
    "# plt.plot(X[0, 0, 0,:])\n",
    "# plt.title('Example eeg signal')\n",
    "# plt.xlabel('time')\n",
    "# plt.ylabel('amplitude ($\\mu V$)' )\n",
    "# plt.show()"
   ]
  },
  {
   "cell_type": "code",
   "execution_count": 573,
   "id": "fd12dad0",
   "metadata": {},
   "outputs": [],
   "source": [
    "# plt.plot(X[0, 0, 1,:])\n",
    "# plt.title('Example eeg signal')\n",
    "# plt.xlabel('time')\n",
    "# plt.ylabel('amplitude ($\\mu V$)' )\n",
    "# plt.show()"
   ]
  },
  {
   "cell_type": "markdown",
   "id": "ac2c7c60",
   "metadata": {},
   "source": [
    "### Wavelet Transform"
   ]
  },
  {
   "cell_type": "code",
   "execution_count": 574,
   "id": "b3c45980",
   "metadata": {},
   "outputs": [],
   "source": [
    "# def wavelet_transform(X, freq_arange):\n",
    "\n",
    "#     transformed_X = np.zeros((X.shape[0], X.shape[2], max(freq_arange), X.shape[-1]))\n",
    "\n",
    "#     for x_i in range(X.shape[0]):\n",
    "\n",
    "#         for chan_i in range(X.shape[2]):\n",
    "\n",
    "#             transformed_X[x_i, chan_i,:,:] = signal.cwt(X[x_i, 0, chan_i, :], signal.ricker, freq_arange)\n",
    "\n",
    "#     return transformed_X"
   ]
  },
  {
   "cell_type": "markdown",
   "id": "34834dc6",
   "metadata": {},
   "source": [
    "Due to small value of EEG signal regarding to X. the values will be scaled up. Actually, the signal values are the micro volt ( 10−6 ) unit converted to volt. So that, the value should be rescaled to micro volt again to a scale of a unit of +1.0 or -1.0."
   ]
  },
  {
   "cell_type": "code",
   "execution_count": 575,
   "id": "ef23364d",
   "metadata": {},
   "outputs": [
    {
     "data": {
      "text/plain": [
       "array([[[1.07, 1.12, 1.16, ..., 0.33, 0.42, 0.45],\n",
       "        [1.03, 1.08, 1.07, ..., 0.34, 0.48, 0.59]]])"
      ]
     },
     "execution_count": 575,
     "metadata": {},
     "output_type": "execute_result"
    }
   ],
   "source": [
    "# X = X_norm\n",
    "X = X *10000\n",
    "X[0]"
   ]
  },
  {
   "cell_type": "code",
   "execution_count": 576,
   "id": "c3e55e51",
   "metadata": {},
   "outputs": [],
   "source": [
    "def Xy_dataloader(X_numpy, y_numpy, batch_size=32):\n",
    "    \n",
    "    X_tensor = torch.tensor(X_numpy).float()\n",
    "    y_tensor = torch.tensor(y_numpy).long()\n",
    "    \n",
    "    dataset = TensorDataset(X_tensor, y_tensor)\n",
    "\n",
    "    loader = DataLoader(dataset, batch_size=batch_size,shuffle=True)\n",
    "    \n",
    "    return loader"
   ]
  },
  {
   "cell_type": "markdown",
   "id": "bc06acca",
   "metadata": {},
   "source": [
    "Before Loading data into DataLoader, split X and y into train set and test (validation) set."
   ]
  },
  {
   "cell_type": "code",
   "execution_count": 577,
   "id": "80958b51",
   "metadata": {},
   "outputs": [],
   "source": [
    "from sklearn.model_selection import train_test_split\n",
    "X_train, X_test, y_train, y_test = train_test_split(X, y, test_size=0.2, stratify=y)"
   ]
  },
  {
   "cell_type": "markdown",
   "id": "b47e5de5",
   "metadata": {},
   "source": [
    "Load training set and test set for DataLoader"
   ]
  },
  {
   "cell_type": "code",
   "execution_count": 578,
   "id": "53c3e877",
   "metadata": {},
   "outputs": [],
   "source": [
    "train_loader = Xy_dataloader(X_train, y_train, 16)\n",
    "test_loader = Xy_dataloader(X_test, y_test, 16)"
   ]
  },
  {
   "cell_type": "markdown",
   "id": "ff2dd92e",
   "metadata": {},
   "source": [
    "## 3. Modeling"
   ]
  },
  {
   "cell_type": "code",
   "execution_count": 579,
   "id": "8a975dbd",
   "metadata": {},
   "outputs": [],
   "source": [
    "from torch import nn\n",
    "import torch.nn.functional as F"
   ]
  },
  {
   "cell_type": "code",
   "execution_count": 580,
   "id": "2514f1cf",
   "metadata": {},
   "outputs": [
    {
     "data": {
      "text/plain": [
       "torch.Size([16, 1, 2, 641])"
      ]
     },
     "execution_count": 580,
     "metadata": {},
     "output_type": "execute_result"
    }
   ],
   "source": [
    "x = next(iter(train_loader))[0]\n",
    "x.shape"
   ]
  },
  {
   "cell_type": "code",
   "execution_count": 614,
   "id": "aa1c030c",
   "metadata": {},
   "outputs": [],
   "source": [
    "class ConvNet(nn.Module):\n",
    "    \n",
    "    def __init__(self, input_channels, output_channels): # input (16, 1, 2, 641)\n",
    "        super().__init__()\n",
    "        \n",
    "        self.input_channels = input_channels\n",
    "        self.output_channels = output_channels\n",
    "        \n",
    "        # Layer 1 convolves on the time axis\n",
    "        output1 = 40\n",
    "        self.layer1 = nn.Sequential(nn.Conv2d(input_channels, output1, kernel_size=(1, 30)),\n",
    "                                    nn.LeakyReLU(),\n",
    "                                    nn.Dropout2d(p=0.4))\n",
    "        \n",
    "        \n",
    "        # Layer 2 convolves on the channel axis\n",
    "        output2 = 80\n",
    "        self.layer2 = nn.Sequential(nn.Conv2d(output1, output2, kernel_size=(2, 1)),\n",
    "                                    nn.LeakyReLU(),\n",
    "                                    nn.Dropout2d(p=0.4),\n",
    "                                    nn.AvgPool2d(kernel_size=(1, 15)))\n",
    "        \n",
    "        self.fc1 = nn.Linear(3200, 2)\n",
    "    \n",
    "    def forward(self, x):\n",
    "        x = self.layer1(x)\n",
    "        x = self.layer2(x)\n",
    "        \n",
    "        x = x.reshape(x.size(0), -1)\n",
    "        \n",
    "        x = self.fc1(x)\n",
    "        \n",
    "        x = F.softmax(x, dim=0)\n",
    "        \n",
    "        return x\n",
    "    \n",
    "    "
   ]
  },
  {
   "cell_type": "markdown",
   "id": "9e1259c9",
   "metadata": {},
   "source": [
    "## 4. Training"
   ]
  },
  {
   "cell_type": "code",
   "execution_count": 615,
   "id": "b2ccc0a8",
   "metadata": {},
   "outputs": [
    {
     "name": "stdout",
     "output_type": "stream",
     "text": [
      "pytorch is using:  cuda\n"
     ]
    }
   ],
   "source": [
    "device = torch.device('cuda' if torch.cuda.is_available() else 'cpu')\n",
    "print('pytorch is using: ', device)"
   ]
  },
  {
   "cell_type": "code",
   "execution_count": 616,
   "id": "08114a32",
   "metadata": {},
   "outputs": [],
   "source": [
    "model = ConvNet(1, 2).to(device)"
   ]
  },
  {
   "cell_type": "markdown",
   "id": "936fd43b",
   "metadata": {},
   "source": [
    "Define Optimizer and Loss function"
   ]
  },
  {
   "cell_type": "code",
   "execution_count": 617,
   "id": "38ae874b",
   "metadata": {},
   "outputs": [],
   "source": [
    "optimizer = optim.Adam(model.parameters(), lr=0.0001)\n",
    "criterion = nn.CrossEntropyLoss()"
   ]
  },
  {
   "cell_type": "markdown",
   "id": "d12f527d",
   "metadata": {},
   "source": [
    "### Training function"
   ]
  },
  {
   "cell_type": "code",
   "execution_count": 618,
   "id": "4f1c382b",
   "metadata": {},
   "outputs": [],
   "source": [
    "def train_model(model, train_dataloader, valid_dataloader, \n",
    "                epochs, criterion, optimizer, print_epoch=1000):\n",
    "    \n",
    "    loss_train = []\n",
    "    loss_valid = []\n",
    "    acc_train = []\n",
    "    acc_valid = []\n",
    "    \n",
    "    for i in range(1, epochs+1):\n",
    "        \n",
    "        # ===================TRAIN ======================\n",
    "        model.train()\n",
    "        \n",
    "        epoch_loss = 0\n",
    "        correct = 0\n",
    "        \n",
    "        for x, y in train_dataloader:\n",
    "            \n",
    "            x = x.to(device)\n",
    "            y = y.to(device)\n",
    "            \n",
    "            out = model(x)\n",
    "#             print(out.size())\n",
    "            \n",
    "            loss = criterion(out, y)\n",
    "            \n",
    "            _,pred = torch.max(out, 1)\n",
    "            \n",
    "            correct += (pred == y).to('cpu').float().sum()\n",
    "            \n",
    "            epoch_loss += loss.item()\n",
    "            \n",
    "            #backprop\n",
    "            optimizer.zero_grad()\n",
    "            loss.backward()\n",
    "            optimizer.step()\n",
    "        \n",
    "        acc_train.append(100 * correct / len(train_dataloader.dataset))\n",
    "        loss_train.append(epoch_loss/len(train_dataloader))\n",
    "        # loss_train.append(epoch_loss)\n",
    "        \n",
    "        # ===================VALIDATION =================\n",
    "        model.eval()\n",
    "    \n",
    "        epoch_loss = 0\n",
    "        correct = 0\n",
    "        \n",
    "        for x, y in valid_dataloader:\n",
    "            \n",
    "            x = x.to(device)\n",
    "            y = y.to(device)\n",
    "            \n",
    "            out = model(x)\n",
    "            \n",
    "            loss = criterion(out, y)\n",
    "            \n",
    "            _,pred = torch.max(out, 1)\n",
    "            \n",
    "            correct += (pred == y).to('cpu').float().sum()\n",
    "            \n",
    "            epoch_loss += loss.item()\n",
    "        \n",
    "        acc_valid.append(100 * correct / len(valid_dataloader.dataset))\n",
    "        loss_valid.append(epoch_loss/len(valid_dataloader))\n",
    "        # loss_valid.append(epoch_loss)\n",
    "        \n",
    "        # ================= PRINT ===========================\n",
    "        if i % print_epoch == 0 :\n",
    "            clear_output(wait=True)\n",
    "            print(f'epoch {i}/{epochs} train loss: {np.round(loss_train[-1],5)} train acc: {np.round(acc_train[-1],5)} validation loss: {np.round(loss_valid[-1],5)} validation acc: {np.round(acc_valid[-1],5)}')\n",
    "            plt.plot(loss_train, label='train')\n",
    "            plt.plot(loss_valid, label='test')\n",
    "            plt.title('Loss during Training')\n",
    "            plt.xlabel('epoch')\n",
    "            plt.ylabel('loss')\n",
    "            plt.legend()\n",
    "            plt.show()\n",
    "\n",
    "            plt.plot(acc_train, label='train')\n",
    "            plt.plot(acc_valid, label='test')\n",
    "            plt.title('Accuracy during Training')\n",
    "            plt.xlabel('epoch')\n",
    "            plt.ylabel('accuracy')\n",
    "            plt.legend()\n",
    "            plt.show()    \n",
    "            \n",
    "    return model, loss_train, loss_valid, acc_train, acc_valid\n",
    "            "
   ]
  },
  {
   "cell_type": "code",
   "execution_count": 619,
   "id": "b3aea38e",
   "metadata": {},
   "outputs": [
    {
     "name": "stdout",
     "output_type": "stream",
     "text": [
      "epoch 1000/1000 train loss: 0.64702 train acc: 67.54873657226562 validation loss: 0.67224 validation acc: 62.33766174316406\n"
     ]
    },
    {
     "data": {
      "image/png": "[encoded data removed]",
      "text/plain": [
       "<Figure size 432x288 with 1 Axes>"
      ]
     },
     "metadata": {
      "needs_background": "light"
     },
     "output_type": "display_data"
    },
    {
     "data": {
      "image/png": "[encoded data removed]",
      "text/plain": [
       "<Figure size 432x288 with 1 Axes>"
      ]
     },
     "metadata": {
      "needs_background": "light"
     },
     "output_type": "display_data"
    }
   ],
   "source": [
    "model, loss_train, loss_valid, acc_train, acc_valid = train_model(model, train_loader, test_loader, 1000, criterion, optimizer, 10)"
   ]
  },
  {
   "cell_type": "markdown",
   "id": "56b28d1b",
   "metadata": {},
   "source": [
    "## 5. Model Evaluation"
   ]
  },
  {
   "cell_type": "code",
   "execution_count": 620,
   "id": "11335245",
   "metadata": {},
   "outputs": [],
   "source": [
    "def predict_model(model, X_test):\n",
    "    \n",
    "    model.eval()\n",
    "    \n",
    "    x = torch.tensor(X_test).float()\n",
    "    \n",
    "    x = x.to(device)\n",
    "            \n",
    "    out = model(x).to('cpu')\n",
    "    \n",
    "    pred = torch.max(out, 1)[1].numpy()\n",
    "    \n",
    "    return pred"
   ]
  },
  {
   "cell_type": "code",
   "execution_count": 621,
   "id": "21130675",
   "metadata": {},
   "outputs": [],
   "source": [
    "y_pred = predict_model(model, X_test)"
   ]
  },
  {
   "cell_type": "code",
   "execution_count": 622,
   "id": "54a757da",
   "metadata": {},
   "outputs": [
    {
     "name": "stdout",
     "output_type": "stream",
     "text": [
      "              precision    recall  f1-score   support\n",
      "\n",
      "           0       0.72      0.26      0.38       271\n",
      "           1       0.55      0.90      0.68       268\n",
      "\n",
      "    accuracy                           0.58       539\n",
      "   macro avg       0.63      0.58      0.53       539\n",
      "weighted avg       0.63      0.58      0.53       539\n",
      "\n"
     ]
    }
   ],
   "source": [
    "from sklearn.metrics import classification_report\n",
    "\n",
    "print(classification_report(y_test, y_pred))"
   ]
  },
  {
   "cell_type": "code",
   "execution_count": null,
   "id": "8ced3095",
   "metadata": {},
   "outputs": [],
   "source": []
  }
 ],
 "metadata": {
  "kernelspec": {
   "display_name": "Python 3 (ipykernel)",
   "language": "python",
   "name": "python3"
  },
  "language_info": {
   "codemirror_mode": {
    "name": "ipython",
    "version": 3
   },
   "file_extension": ".py",
   "mimetype": "text/x-python",
   "name": "python",
   "nbconvert_exporter": "python",
   "pygments_lexer": "ipython3",
   "version": "3.9.7"
  }
 },
 "nbformat": 4,
 "nbformat_minor": 5
}
